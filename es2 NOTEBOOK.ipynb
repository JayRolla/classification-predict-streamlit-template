{
 "cells": [
  {
   "cell_type": "markdown",
   "id": "ebd943e8",
   "metadata": {},
   "source": [
    "# ADVANCED CLASSIFICATION PREDICT\n",
    "___\n",
    "\n",
    "\n",
    "© Explore Data Science Academy\n",
    "\n",
    "\n",
    "\n",
    "\n",
    "---\n",
    "## <u> Predict Overview: Climate Change Belief Analysis 2022 </u>\n",
    "\n",
    "#### <U>INTRODUCTION</U>\n",
    "\n",
    "- Climate Change\n",
    "* Climate is the average weather in a place over many years. Climate change is a shift in those average conditions.\n",
    "* The rapid climate change is caused by humans using oil, gas and coal for their homes, factories and transport.\n",
    "* When these fossil fuels burn, they release greenhouse gases - mostly carbon dioxide (CO2). These gases trap the Sun's heat and cause the planet's temperature to rise.\n",
    "\n",
    "\n",
    "---\n",
    "\n",
    "\n",
    "\n",
    "#### <u> PROBLEM STATEMENT </u>\n",
    "Companies are working to lessen and reduce the damage being done to the climate by offering products and services that are environmentally friendly and sustainable.These companies would also like to improve on their research efforts by verifying people's understanding and beliefs on the danger of climate change \n",
    "\n",
    "> Providing an accurate and robust solution to this task gives companies access to a broad base of consumer sentiment, spanning multiple demographic and geographic categories - thus increasing their insights and informing future marketing strategies\n",
    "\n",
    "---\n",
    "\n",
    "#### <u> TASK AHEAD </u>\n",
    "EDSA is challenging us with the task of creating a Machine Learning model that is able to classify whether or not a person believes in climate change, based on their novel tweet data.\n",
    "\n",
    "> Predict an individual’s belief in climate change based on historical tweet data\n",
    "\n",
    "\n",
    "---\n",
    "\n",
    "<a id=\"cont\"></a>\n",
    "\n",
    "#### <u> PROCESS\n",
    "\n",
    "<a href=#one>1. Importing Packages</a>\n",
    "\n",
    "<a href=#two>2. Loading Data</a>\n",
    "\n",
    "<a href=#three>3. Exploratory Data Analysis (EDA)</a>\n",
    "\n",
    "<a href=#four>4. Modelling</a>\n",
    "\n",
    "<a href=#five>5. Model Evaluation</a>\n",
    "\n",
    "<a href=#six>6. Model Selection</a>\n",
    "\n",
    "<a href=#seven>7. Conclusion</a>\n",
    "\n",
    "<a href=#eight>8.Refrences</a>\n",
    "\n",
    "\n",
    "    \n",
    "---"
   ]
  },
  {
   "cell_type": "markdown",
   "id": "a9671647",
   "metadata": {},
   "source": [
    "> Just before the importation of packages, let's connect to __Comet__"
   ]
  },
  {
   "cell_type": "code",
   "execution_count": 1,
   "id": "911cc50e",
   "metadata": {
    "scrolled": true
   },
   "outputs": [],
   "source": [
    "# !pip install comet_ml"
   ]
  },
  {
   "cell_type": "code",
   "execution_count": 2,
   "id": "6272e5f5",
   "metadata": {},
   "outputs": [],
   "source": [
    "# import comet_ml at the top of your file\n",
    "from comet_ml import Experiment"
   ]
  },
  {
   "cell_type": "code",
   "execution_count": 3,
   "id": "2d6424a4",
   "metadata": {
    "scrolled": true
   },
   "outputs": [
    {
     "name": "stderr",
     "output_type": "stream",
     "text": [
      "COMET WARNING: As you are running in a Jupyter environment, you will need to call `experiment.end()` when finished to ensure all metrics and code are logged before exiting.\n",
      "COMET INFO: Couldn't find a Git repository in 'C:\\\\Users\\\\USER\\\\Downloads\\\\Advanced_Classification_Predict-student_data-2780\\\\Advanced classification predict' nor in any parent directory. You can override where Comet is looking for a Git Patch by setting the configuration `COMET_GIT_DIRECTORY`\n",
      "COMET INFO: Experiment is live on comet.ml https://www.comet.ml/softmancho/climate-change-tweet-classification-predict/5817eda3363048bbba3cd54f22763a49\n",
      "\n"
     ]
    }
   ],
   "source": [
    "# Create an experiment with your api key\n",
    "experiment = Experiment(\n",
    "    api_key=\"gwwsjpgy1KtBxQNzAWYIZvNkn\",\n",
    "    project_name=\"climate-change-tweet-classification-predict\",\n",
    "    workspace=\"softmancho\",\n",
    ")"
   ]
  },
  {
   "cell_type": "markdown",
   "id": "91430d98",
   "metadata": {},
   "source": [
    ">> The above code is the connection between this __notebook__ and the workspace on __comet__ which helps to record our experiment<br>\n",
    "\n",
    "\n",
    "- *The comet account used for this project belongs to a member of the team*"
   ]
  },
  {
   "attachments": {
    "climate%203.jpg": {
     "image/jpeg": "[encoded data removed]"
    }
   },
   "cell_type": "markdown",
   "id": "2a0edf46",
   "metadata": {},
   "source": [
    "---\n",
    "\n",
    "\n",
    "\n",
    "![climate%203.jpg](attachment:climate%203.jpg)\n",
    "\n",
    "\n"
   ]
  },
  {
   "cell_type": "markdown",
   "id": "bc4c0024",
   "metadata": {},
   "source": [
    "---\n",
    "\n",
    "<a id=\"one\"></a>\n",
    "## 1. Importing Packages\n",
    "<a href=#cont>Back to Table of Contents</a>\n",
    "\n",
    "---"
   ]
  },
  {
   "cell_type": "code",
   "execution_count": 4,
   "id": "b13d1942",
   "metadata": {},
   "outputs": [],
   "source": [
    "# Libraries for importing and loading data\n",
    "import numpy as np\n",
    "import pandas as pd\n",
    "\n",
    "# Libraries for data preparation \n",
    "import re\n",
    "import string\n",
    "from sklearn import preprocessing\n",
    "from sklearn.model_selection import train_test_split\n",
    "from nltk.tokenize import word_tokenize, TreebankWordTokenizer\n",
    "from nltk.tokenize import TreebankWordTokenizer\n",
    "from nltk import SnowballStemmer\n",
    "from nltk.stem import WordNetLemmatizer\n",
    "from nltk.corpus import stopwords\n",
    "from nltk.corpus import wordnet \n",
    "\n",
    "from sklearn.preprocessing import LabelEncoder\n",
    "from sklearn.preprocessing import MinMaxScaler\n",
    "from sklearn.feature_extraction.text import TfidfVectorizer\n",
    "from sklearn.feature_extraction.text import CountVectorizer\n",
    "import nltk\n",
    "\n",
    "# Libraries for data visualizations\n",
    "import matplotlib.pyplot as plt\n",
    "import seaborn as sns\n",
    "%matplotlib inline\n",
    "\n",
    "# set plot style\n",
    "sns.set()\n",
    "\n",
    "\n",
    "\n",
    "#import matplotlib.style as style \n",
    "sns.set(font_scale=1.0)\n",
    "#style.use('seaborn-pastel')\n",
    "#style.use('seaborn-poster')\n",
    "from PIL import Image\n",
    "# from wordcloud import WordCloud\n",
    "\n",
    "# Building classification models\n",
    "from sklearn.pipeline import Pipeline\n",
    "from sklearn.svm import LinearSVC\n",
    "from sklearn.naive_bayes import MultinomialNB\n",
    "from sklearn.neighbors import KNeighborsClassifier\n",
    "from sklearn.ensemble import RandomForestClassifier\n",
    "from sklearn.linear_model import LogisticRegression\n",
    "\n",
    "\n",
    "# Libraries for assessing model accuracy \n",
    "from sklearn.metrics import accuracy_score\n",
    "from sklearn.metrics import roc_auc_score\n",
    "from sklearn.metrics import recall_score\n",
    "from sklearn.metrics import precision_score\n",
    "from sklearn.metrics import f1_score\n",
    "from sklearn.metrics import classification_report\n",
    "\n",
    "\n",
    "from sklearn import metrics\n",
    "from sklearn.metrics import classification_report, confusion_matrix, f1_score, precision_score, recall_score\n",
    "\n",
    "\n",
    "# from wordcloud import WordCloud, STOPWORDS , ImageColorGenerator\n",
    "\n",
    "# Setting global constants to ensure notebook results are reproducible\n",
    "\n",
    "RANDOM_STATE = 42\n",
    "\n",
    "\n",
    "import warnings\n",
    "warnings.filterwarnings('ignore')"
   ]
  },
  {
   "cell_type": "code",
   "execution_count": 5,
   "id": "668ac5c2",
   "metadata": {},
   "outputs": [
    {
     "name": "stderr",
     "output_type": "stream",
     "text": [
      "[nltk_data] Downloading package punkt to\n",
      "[nltk_data]     C:\\Users\\USER\\AppData\\Roaming\\nltk_data...\n",
      "[nltk_data]   Package punkt is already up-to-date!\n",
      "[nltk_data] Downloading package stopwords to\n",
      "[nltk_data]     C:\\Users\\USER\\AppData\\Roaming\\nltk_data...\n",
      "[nltk_data]   Package stopwords is already up-to-date!\n"
     ]
    },
    {
     "data": {
      "text/plain": [
       "True"
      ]
     },
     "execution_count": 5,
     "metadata": {},
     "output_type": "execute_result"
    }
   ],
   "source": [
    "# Download NLTK Corpora\n",
    "nltk.download(['punkt','stopwords'])"
   ]
  },
  {
   "cell_type": "markdown",
   "id": "63fb9f4a",
   "metadata": {},
   "source": [
    "- To find all stopwords in a given string of text, we require a list of all possible stopwords in the English language to use for the lookup. Therefore, the __nltk downloader tool__ command above is used to download the corpora."
   ]
  },
  {
   "cell_type": "markdown",
   "id": "af804878",
   "metadata": {},
   "source": [
    "<a id=\"two\"></a>\n",
    "## 2. Loading Data\n",
    "<a href=#cont>Back to Table of Contents</a>\n",
    "\n",
    "---"
   ]
  },
  {
   "cell_type": "code",
   "execution_count": 6,
   "id": "ed2047cc",
   "metadata": {},
   "outputs": [
    {
     "data": {
      "text/html": [
       "<div>\n",
       "<style scoped>\n",
       "    .dataframe tbody tr th:only-of-type {\n",
       "        vertical-align: middle;\n",
       "    }\n",
       "\n",
       "    .dataframe tbody tr th {\n",
       "        vertical-align: top;\n",
       "    }\n",
       "\n",
       "    .dataframe thead th {\n",
       "        text-align: right;\n",
       "    }\n",
       "</style>\n",
       "<table border=\"1\" class=\"dataframe\">\n",
       "  <thead>\n",
       "    <tr style=\"text-align: right;\">\n",
       "      <th></th>\n",
       "      <th>sentiment</th>\n",
       "      <th>message</th>\n",
       "      <th>tweetid</th>\n",
       "    </tr>\n",
       "  </thead>\n",
       "  <tbody>\n",
       "    <tr>\n",
       "      <th>0</th>\n",
       "      <td>1</td>\n",
       "      <td>PolySciMajor EPA chief doesn't think carbon di...</td>\n",
       "      <td>625221</td>\n",
       "    </tr>\n",
       "    <tr>\n",
       "      <th>1</th>\n",
       "      <td>1</td>\n",
       "      <td>It's not like we lack evidence of anthropogeni...</td>\n",
       "      <td>126103</td>\n",
       "    </tr>\n",
       "    <tr>\n",
       "      <th>2</th>\n",
       "      <td>2</td>\n",
       "      <td>RT @RawStory: Researchers say we have three ye...</td>\n",
       "      <td>698562</td>\n",
       "    </tr>\n",
       "    <tr>\n",
       "      <th>3</th>\n",
       "      <td>1</td>\n",
       "      <td>#TodayinMaker# WIRED : 2016 was a pivotal year...</td>\n",
       "      <td>573736</td>\n",
       "    </tr>\n",
       "    <tr>\n",
       "      <th>4</th>\n",
       "      <td>1</td>\n",
       "      <td>RT @SoyNovioDeTodas: It's 2016, and a racist, ...</td>\n",
       "      <td>466954</td>\n",
       "    </tr>\n",
       "  </tbody>\n",
       "</table>\n",
       "</div>"
      ],
      "text/plain": [
       "   sentiment                                            message  tweetid\n",
       "0          1  PolySciMajor EPA chief doesn't think carbon di...   625221\n",
       "1          1  It's not like we lack evidence of anthropogeni...   126103\n",
       "2          2  RT @RawStory: Researchers say we have three ye...   698562\n",
       "3          1  #TodayinMaker# WIRED : 2016 was a pivotal year...   573736\n",
       "4          1  RT @SoyNovioDeTodas: It's 2016, and a racist, ...   466954"
      ]
     },
     "execution_count": 6,
     "metadata": {},
     "output_type": "execute_result"
    }
   ],
   "source": [
    "# load the train data\n",
    "train_df = pd.read_csv('train.csv')\n",
    "train_df.head()"
   ]
  },
  {
   "cell_type": "markdown",
   "id": "c22b59d8",
   "metadata": {},
   "source": [
    ">> Looking at the top five rows of our data above, we can see all our features as well as the types of data we are working with.Our features are: **sentiment**(**2** News,**1** Pro,**0** Neutral,**-1** Anti), **message** and **tweetid**.<br> \n",
    "> Looking specifically at the data type of each feature, we can determine whether a variable is numerical, or categorical. Currently the **categorical** feature is message while sentiment and tweetid are **numerical**.\n"
   ]
  },
  {
   "cell_type": "code",
   "execution_count": 7,
   "id": "cb673c20",
   "metadata": {},
   "outputs": [
    {
     "data": {
      "text/html": [
       "<div>\n",
       "<style scoped>\n",
       "    .dataframe tbody tr th:only-of-type {\n",
       "        vertical-align: middle;\n",
       "    }\n",
       "\n",
       "    .dataframe tbody tr th {\n",
       "        vertical-align: top;\n",
       "    }\n",
       "\n",
       "    .dataframe thead th {\n",
       "        text-align: right;\n",
       "    }\n",
       "</style>\n",
       "<table border=\"1\" class=\"dataframe\">\n",
       "  <thead>\n",
       "    <tr style=\"text-align: right;\">\n",
       "      <th></th>\n",
       "      <th>message</th>\n",
       "      <th>tweetid</th>\n",
       "    </tr>\n",
       "  </thead>\n",
       "  <tbody>\n",
       "    <tr>\n",
       "      <th>0</th>\n",
       "      <td>Europe will now be looking to China to make su...</td>\n",
       "      <td>169760</td>\n",
       "    </tr>\n",
       "    <tr>\n",
       "      <th>1</th>\n",
       "      <td>Combine this with the polling of staffers re c...</td>\n",
       "      <td>35326</td>\n",
       "    </tr>\n",
       "    <tr>\n",
       "      <th>2</th>\n",
       "      <td>The scary, unimpeachable evidence that climate...</td>\n",
       "      <td>224985</td>\n",
       "    </tr>\n",
       "    <tr>\n",
       "      <th>3</th>\n",
       "      <td>@Karoli @morgfair @OsborneInk @dailykos \\nPuti...</td>\n",
       "      <td>476263</td>\n",
       "    </tr>\n",
       "    <tr>\n",
       "      <th>4</th>\n",
       "      <td>RT @FakeWillMoore: 'Female orgasms cause globa...</td>\n",
       "      <td>872928</td>\n",
       "    </tr>\n",
       "  </tbody>\n",
       "</table>\n",
       "</div>"
      ],
      "text/plain": [
       "                                             message  tweetid\n",
       "0  Europe will now be looking to China to make su...   169760\n",
       "1  Combine this with the polling of staffers re c...    35326\n",
       "2  The scary, unimpeachable evidence that climate...   224985\n",
       "3  @Karoli @morgfair @OsborneInk @dailykos \\nPuti...   476263\n",
       "4  RT @FakeWillMoore: 'Female orgasms cause globa...   872928"
      ]
     },
     "execution_count": 7,
     "metadata": {},
     "output_type": "execute_result"
    }
   ],
   "source": [
    "test_df = pd.read_csv('test_with_no_labels.csv')\n",
    "test_df.head()"
   ]
  },
  {
   "cell_type": "markdown",
   "id": "8ab6aeb1",
   "metadata": {},
   "source": [
    ">> The result of the above test data reveals two independent variables, **message** and **tweetid**, which are supposed to be used in predicting **sentiment**"
   ]
  },
  {
   "cell_type": "markdown",
   "id": "420104fb",
   "metadata": {},
   "source": [
    "<a id=\"three\"></a>\n",
    "## 3. Exploratory Data Analysis (EDA)\n",
    "<a class=\"anchor\" id=\"1.1\"></a>\n",
    "<a href=#cont>Back to Table of Contents</a>\n",
    "\n",
    "---\n"
   ]
  },
  {
   "cell_type": "markdown",
   "id": "187d5eaa",
   "metadata": {},
   "source": [
    "\n",
    "**Variable definitions**\n",
    "\n",
    "> - sentiment: Sentiment of tweet\n",
    "> - message: Tweet body\n",
    "> - tweetid: Twitter unique id"
   ]
  },
  {
   "cell_type": "markdown",
   "id": "946637a4",
   "metadata": {},
   "source": [
    "We can get the total number of rows and columns from the data set using “.shape” like below "
   ]
  },
  {
   "cell_type": "code",
   "execution_count": 8,
   "id": "9b8e9533",
   "metadata": {},
   "outputs": [
    {
     "data": {
      "text/plain": [
       "(15819, 3)"
      ]
     },
     "execution_count": 8,
     "metadata": {},
     "output_type": "execute_result"
    }
   ],
   "source": [
    "#look at the size of the train dataset in terms of rows and columns\n",
    "train_df.shape"
   ]
  },
  {
   "cell_type": "code",
   "execution_count": 9,
   "id": "a0eb2b69",
   "metadata": {},
   "outputs": [
    {
     "data": {
      "text/plain": [
       "(10546, 2)"
      ]
     },
     "execution_count": 9,
     "metadata": {},
     "output_type": "execute_result"
    }
   ],
   "source": [
    "#look at the size of the test dataset in terms of rows and columns\n",
    "test_df.shape"
   ]
  },
  {
   "cell_type": "markdown",
   "id": "37700d1f",
   "metadata": {},
   "source": [
    ">> The shape command shows that we have **15819** rows and **3** features in the **train** dataset\n",
    "and **10546** rows and **2** columns in the **test** dataset."
   ]
  },
  {
   "cell_type": "markdown",
   "id": "43fd48fa",
   "metadata": {},
   "source": [
    "Lets find what all columns contain, of what types and if they contain any value or not, with the help of info() function."
   ]
  },
  {
   "cell_type": "code",
   "execution_count": 10,
   "id": "37489b39",
   "metadata": {},
   "outputs": [
    {
     "name": "stdout",
     "output_type": "stream",
     "text": [
      "<class 'pandas.core.frame.DataFrame'>\n",
      "RangeIndex: 15819 entries, 0 to 15818\n",
      "Data columns (total 3 columns):\n",
      " #   Column     Non-Null Count  Dtype \n",
      "---  ------     --------------  ----- \n",
      " 0   sentiment  15819 non-null  int64 \n",
      " 1   message    15819 non-null  object\n",
      " 2   tweetid    15819 non-null  int64 \n",
      "dtypes: int64(2), object(1)\n",
      "memory usage: 370.9+ KB\n"
     ]
    }
   ],
   "source": [
    "# Check data types for all columns\n",
    "train_df.info()"
   ]
  },
  {
   "cell_type": "markdown",
   "id": "19103e18",
   "metadata": {},
   "source": [
    ">> By observing the above data, we can conclude −<br>\n",
    ">>  Data contains an __Object__ value and two __Int__eger values<br>\n",
    ">> All the columns variable are non-null (no-empty or missing value).\n"
   ]
  },
  {
   "cell_type": "markdown",
   "id": "8fd5af25",
   "metadata": {},
   "source": [
    "### 3.1  Analysis of the  tweet classes (*sentiment*) variable\n",
    "    \n",
    "---"
   ]
  },
  {
   "cell_type": "markdown",
   "id": "9038d50a",
   "metadata": {},
   "source": [
    "#### In this section of the EDA, we will perform an in-depth analysis of the **sentiment** variable in the train DataFrame.\n",
    "\n",
    "- The first step is to create a copy of the train dataframe for the EDA.\n",
    "\n",
    "---\n"
   ]
  },
  {
   "cell_type": "code",
   "execution_count": 11,
   "id": "7a7eb12d",
   "metadata": {},
   "outputs": [
    {
     "data": {
      "text/html": [
       "<div>\n",
       "<style scoped>\n",
       "    .dataframe tbody tr th:only-of-type {\n",
       "        vertical-align: middle;\n",
       "    }\n",
       "\n",
       "    .dataframe tbody tr th {\n",
       "        vertical-align: top;\n",
       "    }\n",
       "\n",
       "    .dataframe thead th {\n",
       "        text-align: right;\n",
       "    }\n",
       "</style>\n",
       "<table border=\"1\" class=\"dataframe\">\n",
       "  <thead>\n",
       "    <tr style=\"text-align: right;\">\n",
       "      <th></th>\n",
       "      <th>sentiment</th>\n",
       "      <th>message</th>\n",
       "      <th>tweetid</th>\n",
       "    </tr>\n",
       "  </thead>\n",
       "  <tbody>\n",
       "    <tr>\n",
       "      <th>0</th>\n",
       "      <td>Pro</td>\n",
       "      <td>PolySciMajor EPA chief doesn't think carbon di...</td>\n",
       "      <td>625221</td>\n",
       "    </tr>\n",
       "    <tr>\n",
       "      <th>1</th>\n",
       "      <td>Pro</td>\n",
       "      <td>It's not like we lack evidence of anthropogeni...</td>\n",
       "      <td>126103</td>\n",
       "    </tr>\n",
       "    <tr>\n",
       "      <th>2</th>\n",
       "      <td>News</td>\n",
       "      <td>RT @RawStory: Researchers say we have three ye...</td>\n",
       "      <td>698562</td>\n",
       "    </tr>\n",
       "    <tr>\n",
       "      <th>3</th>\n",
       "      <td>Pro</td>\n",
       "      <td>#TodayinMaker# WIRED : 2016 was a pivotal year...</td>\n",
       "      <td>573736</td>\n",
       "    </tr>\n",
       "    <tr>\n",
       "      <th>4</th>\n",
       "      <td>Pro</td>\n",
       "      <td>RT @SoyNovioDeTodas: It's 2016, and a racist, ...</td>\n",
       "      <td>466954</td>\n",
       "    </tr>\n",
       "  </tbody>\n",
       "</table>\n",
       "</div>"
      ],
      "text/plain": [
       "  sentiment                                            message  tweetid\n",
       "0       Pro  PolySciMajor EPA chief doesn't think carbon di...   625221\n",
       "1       Pro  It's not like we lack evidence of anthropogeni...   126103\n",
       "2      News  RT @RawStory: Researchers say we have three ye...   698562\n",
       "3       Pro  #TodayinMaker# WIRED : 2016 was a pivotal year...   573736\n",
       "4       Pro  RT @SoyNovioDeTodas: It's 2016, and a racist, ...   466954"
      ]
     },
     "execution_count": 11,
     "metadata": {},
     "output_type": "execute_result"
    }
   ],
   "source": [
    "def update(df):\n",
    "    \n",
    "    df_copy=df.copy()\n",
    "    \n",
    "    word_sentiment=[]\n",
    "\n",
    "    for i in  df_copy['sentiment'] :\n",
    "        if i == 1 :\n",
    "            word_sentiment.append('Pro')  \n",
    "        elif i == 0 :\n",
    "            word_sentiment.append('Neutral')\n",
    "        elif i == -1 :\n",
    "            word_sentiment.append('Anti')\n",
    "        else :\n",
    "            word_sentiment.append('News')\n",
    "            \n",
    "    df_copy['sentiment']=word_sentiment\n",
    "    \n",
    "    return df_copy\n",
    "\n",
    "df_class = update(train_df)\n",
    "df_class.head()"
   ]
  },
  {
   "cell_type": "markdown",
   "id": "3dbeccf4",
   "metadata": {},
   "source": [
    ">> Great, we have been able to assign a description to the classes.<br> Now, Lets try and get the number of times each class appeared and maybe a plot to visualize our analysis"
   ]
  },
  {
   "cell_type": "code",
   "execution_count": 12,
   "id": "ea44be5a",
   "metadata": {},
   "outputs": [
    {
     "data": {
      "text/plain": [
       "Pro        8530\n",
       "News       3640\n",
       "Neutral    2353\n",
       "Anti       1296\n",
       "Name: sentiment, dtype: int64"
      ]
     },
     "execution_count": 12,
     "metadata": {},
     "output_type": "execute_result"
    }
   ],
   "source": [
    "df_class['sentiment'].value_counts()"
   ]
  },
  {
   "cell_type": "code",
   "execution_count": 13,
   "id": "6cf4bf7d",
   "metadata": {
    "scrolled": false
   },
   "outputs": [
    {
     "data": {
      "text/plain": [
       "<AxesSubplot:xlabel='sentiment', ylabel='count'>"
      ]
     },
     "execution_count": 13,
     "metadata": {},
     "output_type": "execute_result"
    },
    {
     "data": {
      "image/png": "[encoded data removed]",
      "text/plain": [
       "<Figure size 432x288 with 1 Axes>"
      ]
     },
     "metadata": {},
     "output_type": "display_data"
    }
   ],
   "source": [
    "# Visualizating the classes\n",
    "import seaborn as sns\n",
    "sns.countplot(df_class['sentiment'])"
   ]
  },
  {
   "cell_type": "markdown",
   "id": "84abb1d3",
   "metadata": {},
   "source": [
    "> A **countplot** can be thought off as a histogram across a categorical instead of quantitative variable and gives the result of a barplot.<br>So we generated a count plot of the sentiment feature, where each bar represents a class description from the dataset and the height represents how many times that each class description occurred. This was done by using **seaborn's countplot**\n",
    "\n",
    "\n",
    "---"
   ]
  },
  {
   "cell_type": "markdown",
   "id": "2b2df5b1",
   "metadata": {},
   "source": [
    "#### lets see if we can get an insight of the most frequently used __hashtagged__ word for the different tweet classes. This is done before tweet cleaning to ensure no information is lost.\n",
    "\n",
    "- Hashtags are extracted from the original tweets and stored in seperate dataframes for each class. \n",
    "\n",
    "---"
   ]
  },
  {
   "cell_type": "code",
   "execution_count": 14,
   "id": "48283fbc",
   "metadata": {},
   "outputs": [],
   "source": [
    "def hashtag_extract(tweet):\n",
    "\n",
    "    # Extract all hashtags from the message column of the dataframe,    \n",
    "    hashtags = []\n",
    "    for i in tweet.str.lower():\n",
    "        ht = re.findall(r\"#(\\w+)\", i)\n",
    "        hashtags.append(ht)\n",
    "\n",
    "    # add all extracted hashtags to a list called hashtags\n",
    "    hashtags = sum(hashtags,[])\n",
    "\n",
    "    # generate the frequency count for each hashtag in the dataframe\n",
    "    frequency = nltk.FreqDist(hashtags)\n",
    "\n",
    "    # convert the generated frquency count dictionary of each hashtags back to a new dataframe\n",
    "    hashtag_df = pd.DataFrame({ 'hashtags': list(frequency.keys()),\n",
    "                               'counts': list(frequency.values())\n",
    "                             })\n",
    "    # select the first 20 largest frequency count of each hashtag\n",
    "    hashtag_df = hashtag_df.nlargest(20, columns='counts')\n",
    "    \n",
    "    return hashtag_df"
   ]
  },
  {
   "cell_type": "code",
   "execution_count": 15,
   "id": "abe60d06",
   "metadata": {},
   "outputs": [
    {
     "data": {
      "text/html": [
       "<div>\n",
       "<style scoped>\n",
       "    .dataframe tbody tr th:only-of-type {\n",
       "        vertical-align: middle;\n",
       "    }\n",
       "\n",
       "    .dataframe tbody tr th {\n",
       "        vertical-align: top;\n",
       "    }\n",
       "\n",
       "    .dataframe thead th {\n",
       "        text-align: right;\n",
       "    }\n",
       "</style>\n",
       "<table border=\"1\" class=\"dataframe\">\n",
       "  <thead>\n",
       "    <tr style=\"text-align: right;\">\n",
       "      <th></th>\n",
       "      <th>hashtags</th>\n",
       "      <th>counts</th>\n",
       "    </tr>\n",
       "  </thead>\n",
       "  <tbody>\n",
       "    <tr>\n",
       "      <th>19</th>\n",
       "      <td>climate</td>\n",
       "      <td>188</td>\n",
       "    </tr>\n",
       "    <tr>\n",
       "      <th>17</th>\n",
       "      <td>beforetheflood</td>\n",
       "      <td>148</td>\n",
       "    </tr>\n",
       "    <tr>\n",
       "      <th>45</th>\n",
       "      <td>climatechange</td>\n",
       "      <td>120</td>\n",
       "    </tr>\n",
       "    <tr>\n",
       "      <th>13</th>\n",
       "      <td>imvotingbecause</td>\n",
       "      <td>62</td>\n",
       "    </tr>\n",
       "    <tr>\n",
       "      <th>4</th>\n",
       "      <td>cop22</td>\n",
       "      <td>59</td>\n",
       "    </tr>\n",
       "  </tbody>\n",
       "</table>\n",
       "</div>"
      ],
      "text/plain": [
       "           hashtags  counts\n",
       "19          climate     188\n",
       "17   beforetheflood     148\n",
       "45    climatechange     120\n",
       "13  imvotingbecause      62\n",
       "4             cop22      59"
      ]
     },
     "execution_count": 15,
     "metadata": {},
     "output_type": "execute_result"
    }
   ],
   "source": [
    "# Extracting the hashtags from tweets in each class\n",
    "\n",
    "pro =     hashtag_extract( df_class ['message'][df_class ['sentiment'] == 'Pro']     )\n",
    "anti =    hashtag_extract( df_class ['message'][df_class['sentiment'] == 'Anti']    )\n",
    "neutral = hashtag_extract( df_class ['message'][df_class ['sentiment'] == 'Neutral'] )\n",
    "news =    hashtag_extract( df_class ['message'][df_class['sentiment'] == 'News']    )\n",
    "\n",
    "pro.head()"
   ]
  },
  {
   "cell_type": "code",
   "execution_count": 16,
   "id": "3cc8ec82",
   "metadata": {},
   "outputs": [
    {
     "data": {
      "image/png": "[encoded data removed]",
      "text/plain": [
       "<Figure size 432x288 with 1 Axes>"
      ]
     },
     "metadata": {},
     "output_type": "display_data"
    }
   ],
   "source": [
    "# Plot the frequent hastags for pro climate change class\n",
    "sns.barplot(data=pro,y=pro['hashtags'], x=pro['counts'], palette=(\"Blues_d\"))\n",
    "plt.title('Frequent PRO climate change hashtags')\n",
    "plt.tight_layout()"
   ]
  },
  {
   "cell_type": "code",
   "execution_count": 17,
   "id": "9e2e4e91",
   "metadata": {},
   "outputs": [
    {
     "data": {
      "image/png": "[encoded data removed]",
      "text/plain": [
       "<Figure size 432x288 with 1 Axes>"
      ]
     },
     "metadata": {},
     "output_type": "display_data"
    }
   ],
   "source": [
    "# Plot the frequent hastags for the anti climate change class\n",
    "sns.barplot(data=anti,y=anti['hashtags'], x=anti['counts'], palette=(\"Blues_d\"))\n",
    "plt.title('Frequent ANTI climate change hashtags')\n",
    "plt.tight_layout()"
   ]
  },
  {
   "cell_type": "code",
   "execution_count": 18,
   "id": "90311583",
   "metadata": {},
   "outputs": [
    {
     "data": {
      "image/png": "[encoded data removed]",
      "text/plain": [
       "<Figure size 432x288 with 1 Axes>"
      ]
     },
     "metadata": {},
     "output_type": "display_data"
    }
   ],
   "source": [
    "# Plot the frequent hastags for the news class\n",
    "sns.barplot(y=news['hashtags'], x=news['counts'], palette=(\"Blues_d\"))\n",
    "plt.title('Frequent climate change NEWS hashtags')\n",
    "plt.tight_layout()"
   ]
  },
  {
   "cell_type": "code",
   "execution_count": 19,
   "id": "5fd46729",
   "metadata": {},
   "outputs": [
    {
     "data": {
      "image/png": "[encoded data removed]",
      "text/plain": [
       "<Figure size 432x288 with 1 Axes>"
      ]
     },
     "metadata": {},
     "output_type": "display_data"
    }
   ],
   "source": [
    "#Plot the frequent hastags for the neutral class\n",
    "sns.barplot(y=neutral['hashtags'], x=neutral['counts'], palette=(\"Blues_d\"))\n",
    "plt.title('Frequent NEUTRAL climate change hashtags')\n",
    "plt.tight_layout()"
   ]
  },
  {
   "cell_type": "markdown",
   "id": "695c3711",
   "metadata": {},
   "source": [
    ">> __Hashtags__ have long been an important tool on Twitter for helping users organize and sort their tweets.<br> The above cell outputs helped us to gain a better understanding of what kind of information is being consumed and shared in each class."
   ]
  },
  {
   "cell_type": "markdown",
   "id": "da9f7d34",
   "metadata": {},
   "source": [
    "### 3.2  Analysis of the  tweet body (*message*) variable\n",
    "\n",
    "\n",
    "---"
   ]
  },
  {
   "cell_type": "code",
   "execution_count": 20,
   "id": "49ab9e44",
   "metadata": {},
   "outputs": [
    {
     "data": {
      "text/plain": [
       "\"PolySciMajor EPA chief doesn't think carbon dioxide is main cause of global warming and.. wait, what!? https://t.co/yeLvcEFXkC via @mashableIt's not like we lack evidence of anthropogenic global warmingRT @RawStory: Researchers say we have three years to act on climate change before it’s too late https://t.co/WdT0KdUr2f https://t.co/Z0ANPT…#TodayinMaker# WIRED : 2016 was a pivotal year in the war on climate change https://t.co/44wOTxTLcDRT @SoyNovioDeTodas: It's 2016, and a racist, sexist, clima\""
      ]
     },
     "execution_count": 20,
     "metadata": {},
     "output_type": "execute_result"
    }
   ],
   "source": [
    "# Display the text to be cleaned\n",
    "\"\".join(train_df['message'].tolist())[:500]"
   ]
  },
  {
   "cell_type": "markdown",
   "id": "f33521bd",
   "metadata": {},
   "source": [
    "#### We found some noises in the above display of the 'message' column,and we will be doing the following to clean it: <br>\n",
    "> - Convert all text to lowercase\n",
    "> - Remove noisy entities' such as punctuations, mentions, numbers and extra white space.\n",
    "> - Remove contractions: Words like ain't, isn't, will have to be expanded to \"am not\" and \"is not.\"\n",
    "> - Remove non-ascii Characters: including the emojis\n",
    "> - Remove new line(\\n) character\n",
    "> - Specific named entity extraction\n",
    "> - Tokenization\n",
    "> - Perform part of speech tagging (POS) and lemmatization"
   ]
  },
  {
   "cell_type": "code",
   "execution_count": 21,
   "id": "97dc7173",
   "metadata": {},
   "outputs": [],
   "source": [
    "def TweetCleaner(tweet):\n",
    "    # Convert everything to lowercase\n",
    "    tweet = tweet.lower() \n",
    "   \n",
    "    # removing rt\n",
    "    tweet= tweet.replace(\"rt\", \"\")\n",
    "    \n",
    "    # removing \\n\n",
    "    tweet= tweet.replace(\"\\n\", \"\")\n",
    "    \n",
    "    #remove emogies\n",
    "    tweet= tweet.encode(\"ascii\", \"ignore\").decode(\"ascii\")\n",
    "    \n",
    "    # Replace websites with web-url's\n",
    "    tweet = re.sub(r'http[s]?://(?:[A-Za-z]|[0-9]|[$-_@.&+]|[!*\\(\\),]|(?:%[0-9A-Fa-f][0-9A-Fa-f]))+', 'url-web', tweet)\n",
    "    \n",
    "    # Remove numbers\n",
    "    tweet = re.sub(r'\\d+', '', tweet)  \n",
    "    \n",
    "    # Remove punctuation\n",
    "    tweet = re.sub(r\"[,.;':@#?!\\&/$]+\\ *\", ' ', tweet)\n",
    "    \n",
    "    # Remove that funny diamond\n",
    "    tweet = re.sub(r\"U+FFFD \", ' ', tweet)\n",
    "    \n",
    "    # Remove extra whitespace\n",
    "    tweet = re.sub(r'\\s\\s+', ' ', tweet)\n",
    "    \n",
    "    # Remove space in front of tweet\n",
    "    tweet = tweet.lstrip(' ')                        \n",
    "    \n",
    "    return tweet"
   ]
  },
  {
   "cell_type": "code",
   "execution_count": 22,
   "id": "b604a350",
   "metadata": {},
   "outputs": [
    {
     "data": {
      "text/html": [
       "<div>\n",
       "<style scoped>\n",
       "    .dataframe tbody tr th:only-of-type {\n",
       "        vertical-align: middle;\n",
       "    }\n",
       "\n",
       "    .dataframe tbody tr th {\n",
       "        vertical-align: top;\n",
       "    }\n",
       "\n",
       "    .dataframe thead th {\n",
       "        text-align: right;\n",
       "    }\n",
       "</style>\n",
       "<table border=\"1\" class=\"dataframe\">\n",
       "  <thead>\n",
       "    <tr style=\"text-align: right;\">\n",
       "      <th></th>\n",
       "      <th>sentiment</th>\n",
       "      <th>message</th>\n",
       "      <th>tweetid</th>\n",
       "    </tr>\n",
       "  </thead>\n",
       "  <tbody>\n",
       "    <tr>\n",
       "      <th>0</th>\n",
       "      <td>1</td>\n",
       "      <td>polyscimajor epa chief doesn t think carbon di...</td>\n",
       "      <td>625221</td>\n",
       "    </tr>\n",
       "    <tr>\n",
       "      <th>1</th>\n",
       "      <td>1</td>\n",
       "      <td>it s not like we lack evidence of anthropogeni...</td>\n",
       "      <td>126103</td>\n",
       "    </tr>\n",
       "    <tr>\n",
       "      <th>2</th>\n",
       "      <td>2</td>\n",
       "      <td>rawstory researchers say we have three years t...</td>\n",
       "      <td>698562</td>\n",
       "    </tr>\n",
       "    <tr>\n",
       "      <th>3</th>\n",
       "      <td>1</td>\n",
       "      <td>todayinmaker wired was a pivotal year in the w...</td>\n",
       "      <td>573736</td>\n",
       "    </tr>\n",
       "    <tr>\n",
       "      <th>4</th>\n",
       "      <td>1</td>\n",
       "      <td>soynoviodetodas it s and a racist sexist clima...</td>\n",
       "      <td>466954</td>\n",
       "    </tr>\n",
       "  </tbody>\n",
       "</table>\n",
       "</div>"
      ],
      "text/plain": [
       "   sentiment                                            message  tweetid\n",
       "0          1  polyscimajor epa chief doesn t think carbon di...   625221\n",
       "1          1  it s not like we lack evidence of anthropogeni...   126103\n",
       "2          2  rawstory researchers say we have three years t...   698562\n",
       "3          1  todayinmaker wired was a pivotal year in the w...   573736\n",
       "4          1  soynoviodetodas it s and a racist sexist clima...   466954"
      ]
     },
     "execution_count": 22,
     "metadata": {},
     "output_type": "execute_result"
    }
   ],
   "source": [
    "# Clean message column by applying the above function 'TweetCleaner'\n",
    "train_df['message'] = train_df['message'].apply(TweetCleaner)\n",
    "train_df.head()"
   ]
  },
  {
   "cell_type": "markdown",
   "id": "1bd66831",
   "metadata": {},
   "source": [
    "---\n",
    "\n",
    "\n",
    "#### Our text is half-way clean,we are left with:<br>\n",
    "- __Tokenization__ which helps to break raw text into words,sentences called tokens<br>\n",
    "- __Lemmatization__ which helps to reduce the word into dictionary root form<br>\n",
    "- The presence of __stopwords__ can dilute the meaning of the text making our model less efficient.\n",
    "\n"
   ]
  },
  {
   "cell_type": "code",
   "execution_count": 23,
   "id": "2b56245c",
   "metadata": {},
   "outputs": [],
   "source": [
    "def lemmatize(df):\n",
    "    \n",
    "    #function that converts list to string\n",
    "    def list_to_string(words): return ' '.join(words) \n",
    "    \n",
    "    # the function that carries out the work\n",
    "    def tweet_lemma(words, lemmatizer): return [lemmatizer.lemmatize(word) for word in words]\n",
    "    \n",
    "    #tokenise each word from each row using word tokenize\n",
    "    tokeniser = TreebankWordTokenizer()\n",
    "    df['message']= df['message'].apply(tokeniser.tokenize)\n",
    "    \n",
    "    #Remove stop word from tweet text\n",
    "    df['message']= df['message'].apply(lambda words:[word for word in words if word not in stopwords.words('english')])\n",
    "    \n",
    "    # lemmatizing the tokens \n",
    "    wnl = WordNetLemmatizer()\n",
    "    df['message']= df['message'].apply(tweet_lemma, args=(wnl, ))\n",
    "    df['message'] =df['message'].apply(lambda x: list_to_string(x))\n",
    "    \n",
    "    return df\n"
   ]
  },
  {
   "cell_type": "code",
   "execution_count": 24,
   "id": "579dcd0b",
   "metadata": {},
   "outputs": [
    {
     "data": {
      "text/html": [
       "<div>\n",
       "<style scoped>\n",
       "    .dataframe tbody tr th:only-of-type {\n",
       "        vertical-align: middle;\n",
       "    }\n",
       "\n",
       "    .dataframe tbody tr th {\n",
       "        vertical-align: top;\n",
       "    }\n",
       "\n",
       "    .dataframe thead th {\n",
       "        text-align: right;\n",
       "    }\n",
       "</style>\n",
       "<table border=\"1\" class=\"dataframe\">\n",
       "  <thead>\n",
       "    <tr style=\"text-align: right;\">\n",
       "      <th></th>\n",
       "      <th>sentiment</th>\n",
       "      <th>message</th>\n",
       "      <th>tweetid</th>\n",
       "    </tr>\n",
       "  </thead>\n",
       "  <tbody>\n",
       "    <tr>\n",
       "      <th>0</th>\n",
       "      <td>1</td>\n",
       "      <td>polyscimajor epa chief think carbon dioxide ma...</td>\n",
       "      <td>625221</td>\n",
       "    </tr>\n",
       "    <tr>\n",
       "      <th>1</th>\n",
       "      <td>1</td>\n",
       "      <td>like lack evidence anthropogenic global warming</td>\n",
       "      <td>126103</td>\n",
       "    </tr>\n",
       "    <tr>\n",
       "      <th>2</th>\n",
       "      <td>2</td>\n",
       "      <td>rawstory researcher say three year act climate...</td>\n",
       "      <td>698562</td>\n",
       "    </tr>\n",
       "    <tr>\n",
       "      <th>3</th>\n",
       "      <td>1</td>\n",
       "      <td>todayinmaker wired pivotal year war climate ch...</td>\n",
       "      <td>573736</td>\n",
       "    </tr>\n",
       "    <tr>\n",
       "      <th>4</th>\n",
       "      <td>1</td>\n",
       "      <td>soynoviodetodas racist sexist climate change d...</td>\n",
       "      <td>466954</td>\n",
       "    </tr>\n",
       "  </tbody>\n",
       "</table>\n",
       "</div>"
      ],
      "text/plain": [
       "   sentiment                                            message  tweetid\n",
       "0          1  polyscimajor epa chief think carbon dioxide ma...   625221\n",
       "1          1    like lack evidence anthropogenic global warming   126103\n",
       "2          2  rawstory researcher say three year act climate...   698562\n",
       "3          1  todayinmaker wired pivotal year war climate ch...   573736\n",
       "4          1  soynoviodetodas racist sexist climate change d...   466954"
      ]
     },
     "execution_count": 24,
     "metadata": {},
     "output_type": "execute_result"
    }
   ],
   "source": [
    "# Further clean message column by applying the above function 'lemmatize'\n",
    "train_df = lemmatize(train_df)\n",
    "train_df.head()"
   ]
  },
  {
   "cell_type": "markdown",
   "id": "0ac72b32",
   "metadata": {},
   "source": [
    "#### Now, lets display our cleaned text"
   ]
  },
  {
   "cell_type": "code",
   "execution_count": 25,
   "id": "cbd2c9e7",
   "metadata": {},
   "outputs": [
    {
     "data": {
      "text/plain": [
       "'polyscimajor epa chief think carbon dioxide main cause global warming wait url-web via mashablelike lack evidence anthropogenic global warmingrawstory researcher say three year act climate change late url-web url-webtodayinmaker wired pivotal year war climate change url-websoynoviodetodas racist sexist climate change denying bigot leading poll electionnightwoh read whether believe climate change url-web url-webthenation mike penny doesnt believe global warming smoking cause lung cancer url-webma'"
      ]
     },
     "execution_count": 25,
     "metadata": {},
     "output_type": "execute_result"
    }
   ],
   "source": [
    "# Display cleaned text\n",
    "\"\".join(train_df['message'].tolist())[:500]"
   ]
  },
  {
   "attachments": {
    "Cheer%20Happy%20Two%20Thumbs%20Up%20Emoji.png": {
     "image/png": "[encoded data removed]"
    }
   },
   "cell_type": "markdown",
   "id": "d081dd88",
   "metadata": {},
   "source": [
    "![Cheer%20Happy%20Two%20Thumbs%20Up%20Emoji.png](attachment:Cheer%20Happy%20Two%20Thumbs%20Up%20Emoji.png)\n",
    "\n",
    ">> Awesome, our text looks clean.<br>\n",
    "Now, we can and we will proceed to more visualizations, modelling and execution <br>But before then, we will apply the cleaning functions __'TweetCleaner'__ and __'lemmatize'__ above to our test dataset."
   ]
  },
  {
   "cell_type": "markdown",
   "id": "af9b08bc",
   "metadata": {},
   "source": [
    "### 3.3 Cleaning  Test_data"
   ]
  },
  {
   "cell_type": "code",
   "execution_count": 26,
   "id": "4b1539ab",
   "metadata": {},
   "outputs": [
    {
     "data": {
      "text/html": [
       "<div>\n",
       "<style scoped>\n",
       "    .dataframe tbody tr th:only-of-type {\n",
       "        vertical-align: middle;\n",
       "    }\n",
       "\n",
       "    .dataframe tbody tr th {\n",
       "        vertical-align: top;\n",
       "    }\n",
       "\n",
       "    .dataframe thead th {\n",
       "        text-align: right;\n",
       "    }\n",
       "</style>\n",
       "<table border=\"1\" class=\"dataframe\">\n",
       "  <thead>\n",
       "    <tr style=\"text-align: right;\">\n",
       "      <th></th>\n",
       "      <th>message</th>\n",
       "      <th>tweetid</th>\n",
       "    </tr>\n",
       "  </thead>\n",
       "  <tbody>\n",
       "    <tr>\n",
       "      <th>0</th>\n",
       "      <td>europe looking china make sure alone fighting ...</td>\n",
       "      <td>169760</td>\n",
       "    </tr>\n",
       "    <tr>\n",
       "      <th>1</th>\n",
       "      <td>combine polling staffer climate change woman r...</td>\n",
       "      <td>35326</td>\n",
       "    </tr>\n",
       "    <tr>\n",
       "      <th>2</th>\n",
       "      <td>scary unimpeachable evidence climate change al...</td>\n",
       "      <td>224985</td>\n",
       "    </tr>\n",
       "    <tr>\n",
       "      <th>3</th>\n",
       "      <td>karoli morgfair osborneink dailykos putin got ...</td>\n",
       "      <td>476263</td>\n",
       "    </tr>\n",
       "    <tr>\n",
       "      <th>4</th>\n",
       "      <td>fakewillmoore female orgasm cause global warmi...</td>\n",
       "      <td>872928</td>\n",
       "    </tr>\n",
       "  </tbody>\n",
       "</table>\n",
       "</div>"
      ],
      "text/plain": [
       "                                             message  tweetid\n",
       "0  europe looking china make sure alone fighting ...   169760\n",
       "1  combine polling staffer climate change woman r...    35326\n",
       "2  scary unimpeachable evidence climate change al...   224985\n",
       "3  karoli morgfair osborneink dailykos putin got ...   476263\n",
       "4  fakewillmoore female orgasm cause global warmi...   872928"
      ]
     },
     "execution_count": 26,
     "metadata": {},
     "output_type": "execute_result"
    }
   ],
   "source": [
    "test_df ['message'] = test_df ['message'].apply(TweetCleaner)\n",
    "test_df = lemmatize(test_df)\n",
    "test_df.head()"
   ]
  },
  {
   "cell_type": "markdown",
   "id": "da9a082d",
   "metadata": {},
   "source": [
    "---\n",
    "\n",
    "\n",
    "#### The above output looks clean. So, lets do some more Visualization\n",
    "\n",
    "\n",
    "---"
   ]
  },
  {
   "cell_type": "markdown",
   "id": "0a65b7e5",
   "metadata": {},
   "source": [
    "### 3.4 Visualizing with Word Cloud \n",
    "\n",
    "\n",
    ">> - Word cloud is a visual representation of the most often used words in a corpus of text."
   ]
  },
  {
   "cell_type": "code",
   "execution_count": 27,
   "id": "81654ac4",
   "metadata": {},
   "outputs": [],
   "source": [
    "# Create new dataframe for word cloud\n",
    "#df_train_cloud = train_df.copy()\n",
    "#df_train_cloud.head()"
   ]
  },
  {
   "cell_type": "code",
   "execution_count": 28,
   "id": "38e3bc48",
   "metadata": {},
   "outputs": [],
   "source": [
    "#from wordcloud import WordCloud\n",
    "#from wordcloud import WordCloud, STOPWORDS , ImageColorGenerator"
   ]
  },
  {
   "cell_type": "code",
   "execution_count": 29,
   "id": "8b8b0ab6",
   "metadata": {},
   "outputs": [],
   "source": [
    "#df_class1 = df_train_cloud[df_train_cloud['sentiment']==1]\n",
    "# df_class0 = df_train_cloud[df_train_cloud['sentiment']==0]\n",
    "#df_classneg = df_train_cloud[df_train_cloud['sentiment']==-1]\n",
    "#df_class2 = df_train_cloud[df_train_cloud['sentiment']==2]\n",
    "\n",
    "#tweet_All = \" \".join(review for review in train_df.message)\n",
    "#tweet_class0 = \" \".join(review for review in df_class0.message)\n",
    "#tweet_class1 = \" \".join(review for review in df_class1.message)\n",
    "#tweet_classneg = \" \".join(review for review in df_classneg.message)\n",
    "#tweet_class2 = \" \".join(review for review in df_class2.message)\n",
    "\n",
    "#fig, ax = plt.subplots(5, 1, figsize  = (35,25))\n",
    "# Create and generate a word cloud image:\n",
    "#wordcloud_ALL = WordCloud(max_font_size=50, max_words=100, background_color=\"white\").generate(tweet_All)\n",
    "#wordcloud_class0 = WordCloud(max_font_size=50, max_words=100, background_color=\"white\").generate(tweet_class0)\n",
    "#wordcloud_class1 = WordCloud(max_font_size=50, max_words=100, background_color=\"white\").generate(tweet_class1)\n",
    "#wordcloud_classneg = WordCloud(max_font_size=50, max_words=100, background_color=\"white\").generate(tweet_classneg)\n",
    "#wordcloud_class2 = WordCloud(max_font_size=50, max_words=100, background_color=\"white\").generate(tweet_class2)\n",
    "\n",
    "# Display the generated image:\n",
    "#ax[0].imshow(wordcloud_ALL, interpolation='bilinear')\n",
    "#ax[0].set_title('All Tweets', fontsize=25)\n",
    "#ax[0].axis('off')\n",
    "#ax[1].imshow(wordcloud_class0, interpolation='bilinear')\n",
    "#ax[1].set_title('Neutral Tweets',fontsize=25)\n",
    "#ax[1].axis('off')\n",
    "#ax[2].imshow(wordcloud_class1, interpolation='bilinear')\n",
    "#ax[2].set_title('Pro Climate Change',fontsize=25)\n",
    "#ax[2].axis('off')\n",
    "#ax[3].imshow(wordcloud_classneg, interpolation='bilinear')\n",
    "#ax[3].set_title('Anti Climate Change',fontsize=25)\n",
    "#ax[3].axis('off')\n",
    "#ax[4].imshow(wordcloud_class2, interpolation='bilinear')\n",
    "#ax[4].set_title('News Tweets',fontsize=25)\n",
    "#ax[4].axis('off')\n",
    "\n",
    "#wordcloud.to_file(\"img/first_review.png\")\"\"\""
   ]
  },
  {
   "cell_type": "markdown",
   "id": "a1fa1264",
   "metadata": {},
   "source": [
    ">>At a glance, We can clearly see that this word cloud is about __Climate change__  since the words ‘’__Global warming__’’, ‘’__Science__ are the most common terms. We can also see that this is a global issue and it highlights people beliefs of climate change"
   ]
  },
  {
   "cell_type": "markdown",
   "id": "3efa4c56",
   "metadata": {},
   "source": [
    "<a id=\"four\"></a>\n",
    "## 4. Modeling\n",
    "<a class=\"anchor\" id=\"1.1\"></a>\n",
    "<a href=#cont>Back to Table of Contents</a>\n",
    "\n",
    "### Lets build classification models now"
   ]
  },
  {
   "cell_type": "markdown",
   "id": "ddca3fe7",
   "metadata": {},
   "source": [
    "- __Pipeline__  will be used in building our classification models<br>\n",
    "The __pipeline__ is a Python scikit-learn utility which functions by allowing a linear series of data transforms to be linked together, resulting in a measurable modeling process.\n",
    "and the following __5__ models will be considered for this project:\n",
    "\n",
    ">> - Random forest\n",
    ">> - Naive Bayes\n",
    ">> - K nearest neighbors\n",
    ">> - Logistic regression\n",
    ">> - Linear SVC"
   ]
  },
  {
   "cell_type": "markdown",
   "id": "c6dd5517",
   "metadata": {},
   "source": [
    "---\n",
    "Before we pass our data through our custom pipelines, we will have to __split the dataset__ and divide it into __two subsets__. It is a technique for evaluating the performance of a machine learning algorithm.This will help us chose the best model for our submission\n",
    "\n",
    "---\n",
    "#### 4.1 Train - Validation split"
   ]
  },
  {
   "cell_type": "code",
   "execution_count": 30,
   "id": "fe29d63b",
   "metadata": {},
   "outputs": [],
   "source": [
    "# Split the dataset into train & validation (20%) for model training\n",
    "\n",
    "# Seperate features and tagret variables\n",
    "X = train_df['message']\n",
    "y = train_df['sentiment']\n",
    "\n",
    "# Split the train data to create validation dataset\n",
    "X_train, X_valid, y_train, y_valid = train_test_split(X, y, test_size=0.2, random_state=42)"
   ]
  },
  {
   "cell_type": "markdown",
   "id": "9350f6ef",
   "metadata": {},
   "source": [
    ">> ###### Pipelines\n",
    "Pipelines consist of 2 steps, vectorization and model fitting.\n",
    "Machines, unlike humans, cannot understand the raw text.Therefore, we need to convert our __text__ into __numbers__.\n",
    "The __TFIDF vectorizer__ assigns word frequency scores that try to highlight frequent words in a document. Another advantage of this method is that the resulting vectors are already scaled.<br>\n",
    "Let's see how that goes"
   ]
  },
  {
   "cell_type": "code",
   "execution_count": 31,
   "id": "41749916",
   "metadata": {},
   "outputs": [],
   "source": [
    "# Random Forest Classifier\n",
    "rf = Pipeline([('tfidf', TfidfVectorizer()),\n",
    "               ('clf', RandomForestClassifier(max_depth=5,n_estimators=100))\n",
    "              ])\n",
    "\n",
    "# Naïve Bayes:\n",
    "nb = Pipeline([('tfidf', TfidfVectorizer()),\n",
    "               ('clf', MultinomialNB())\n",
    "              ])\n",
    "\n",
    "# K-NN Classifier\n",
    "knn = Pipeline([('tfidf', TfidfVectorizer()),\n",
    "                ('clf', KNeighborsClassifier(n_neighbors=5, metric='minkowski', p=2))\n",
    "               ])\n",
    "\n",
    "# Logistic Regression\n",
    "lr = Pipeline([('tfidf',TfidfVectorizer()),\n",
    "               ('clf',LogisticRegression(C=1,class_weight='balanced',max_iter=1000))\n",
    "              ])\n",
    "# Linear SVC:\n",
    "lsvc = Pipeline([('tfidf', TfidfVectorizer()),\n",
    "                 ('clf', LinearSVC(class_weight='balanced'))\n",
    "                ])"
   ]
  },
  {
   "cell_type": "markdown",
   "id": "9ab8eb23",
   "metadata": {},
   "source": [
    "#### 4.2 Train the models\n",
    "\n",
    "---\n",
    "\n",
    ">> The models are trained by passing the train data through each custom pipeline. The trained models are then used to predict the classes for the validation data set."
   ]
  },
  {
   "cell_type": "code",
   "execution_count": 32,
   "id": "c18efc54",
   "metadata": {},
   "outputs": [
    {
     "name": "stderr",
     "output_type": "stream",
     "text": [
      "COMET ERROR: Failed to extract parameters from estimator\n"
     ]
    }
   ],
   "source": [
    "# Random forest \n",
    "rf.fit(X_train, y_train)\n",
    "y_pred_rf = rf.predict(X_valid)\n",
    "\n",
    "# Niave bayes\n",
    "nb.fit(X_train, y_train)\n",
    "y_pred_nb = nb.predict(X_valid)\n",
    "\n",
    "# K - nearest neighbors\n",
    "knn.fit(X_train, y_train)\n",
    "y_pred_knn = knn.predict(X_valid)\n",
    "\n",
    "# Logistic regression\n",
    "lr.fit(X_train, y_train)\n",
    "y_pred_lr = lr.predict(X_valid)\n",
    "\n",
    "# Linear SVC\n",
    "lsvc.fit(X_train, y_train)\n",
    "y_pred_lsvc = lsvc.predict(X_valid)"
   ]
  },
  {
   "cell_type": "markdown",
   "id": "7a3f7e93",
   "metadata": {},
   "source": [
    ">>Awesome, all 5 models are trained.\n",
    "Lets evaluate our models"
   ]
  },
  {
   "cell_type": "markdown",
   "id": "0fd90fd0",
   "metadata": {},
   "source": [
    "<a id=\"five\"></a>\n",
    "## 5. Model evaluation\n",
    "<a class=\"anchor\" id=\"1.1\"></a>\n",
    "<a href=#cont>Back to Table of Contents</a>\n",
    "\n",
    "\n",
    "---\n",
    "\n",
    "\n",
    "The performance of each model will be evaluated based on the <br>\n",
    " -  __precision__,<br> \n",
    " - __accuracy__ and<br>\n",
    " - __F1 score__ <br>"
   ]
  },
  {
   "cell_type": "markdown",
   "id": "6589bc85",
   "metadata": {},
   "source": [
    "This will be achieved when the model is used to predict the classes for the validation data. We will be looking at the following to determine and visualize these metrics:\n",
    "\n",
    "- __Classification report__ and __Confusion matrix__ will be applied to each model. The best model will be selected based on the weighted __F1 score__."
   ]
  },
  {
   "cell_type": "markdown",
   "id": "7b9c4543",
   "metadata": {},
   "source": [
    "---\n",
    "\n",
    "\n",
    "- __Random forest__"
   ]
  },
  {
   "cell_type": "code",
   "execution_count": 33,
   "id": "3d0b85a2",
   "metadata": {},
   "outputs": [
    {
     "name": "stdout",
     "output_type": "stream",
     "text": [
      "              precision    recall  f1-score   support\n",
      "\n",
      "          -1       0.00      0.00      0.00       278\n",
      "           0       0.00      0.00      0.00       425\n",
      "           1       0.55      1.00      0.71      1755\n",
      "           2       0.00      0.00      0.00       706\n",
      "\n",
      "    accuracy                           0.55      3164\n",
      "   macro avg       0.14      0.25      0.18      3164\n",
      "weighted avg       0.31      0.55      0.40      3164\n",
      "\n"
     ]
    },
    {
     "data": {
      "image/png": "[encoded data removed]",
      "text/plain": [
       "<Figure size 432x288 with 2 Axes>"
      ]
     },
     "metadata": {},
     "output_type": "display_data"
    }
   ],
   "source": [
    "# Generate a classification Report for the random forest model\n",
    "print(metrics.classification_report(y_valid, y_pred_rf))\n",
    "\n",
    "# Generate a normalized confusion matrix\n",
    "cm = confusion_matrix(y_valid, y_pred_rf)\n",
    "cm_norm = cm / cm.sum(axis=1).reshape(-1,1)\n",
    "\n",
    "# Display the confusion matrix as a heatmap\n",
    "sns.heatmap(cm_norm, \n",
    "            cmap=\"YlGnBu\", \n",
    "            xticklabels=rf.classes_, \n",
    "            yticklabels=rf.classes_, \n",
    "            vmin=0., \n",
    "            vmax=1., \n",
    "            annot=True, \n",
    "            annot_kws={'size':20})\n",
    "\n",
    "# Adding headings and lables\n",
    "plt.title('Random forest classification')\n",
    "plt.ylabel('True label')\n",
    "plt.xlabel('Predicted label')\n",
    "plt.show()"
   ]
  },
  {
   "cell_type": "markdown",
   "id": "4e3c7b81",
   "metadata": {},
   "source": [
    "- __Naive Bayes__"
   ]
  },
  {
   "cell_type": "code",
   "execution_count": 34,
   "id": "6b04bfc3",
   "metadata": {},
   "outputs": [
    {
     "name": "stdout",
     "output_type": "stream",
     "text": [
      "              precision    recall  f1-score   support\n",
      "\n",
      "          -1       0.80      0.01      0.03       278\n",
      "           0       0.96      0.05      0.10       425\n",
      "           1       0.62      0.98      0.76      1755\n",
      "           2       0.90      0.47      0.62       706\n",
      "\n",
      "    accuracy                           0.66      3164\n",
      "   macro avg       0.82      0.38      0.38      3164\n",
      "weighted avg       0.74      0.66      0.58      3164\n",
      "\n"
     ]
    },
    {
     "data": {
      "image/png": "[encoded data removed]",
      "text/plain": [
       "<Figure size 432x288 with 2 Axes>"
      ]
     },
     "metadata": {},
     "output_type": "display_data"
    }
   ],
   "source": [
    "# Generate a classification Report for the Naive Bayes model\n",
    "print(metrics.classification_report(y_valid, y_pred_nb))\n",
    "\n",
    "# Generate a normalized confusion matrix\n",
    "cm = confusion_matrix(y_valid, y_pred_nb)\n",
    "cm_norm = cm / cm.sum(axis=1).reshape(-1,1)\n",
    "\n",
    "# Display the confusion matrix as a heatmap\n",
    "sns.heatmap(cm_norm, \n",
    "            cmap=\"YlGnBu\", \n",
    "            xticklabels=nb.classes_, \n",
    "            yticklabels=nb.classes_, \n",
    "            vmin=0., \n",
    "            vmax=1., \n",
    "            annot=True, \n",
    "            annot_kws={'size':20})\n",
    "\n",
    "# Adding headings and lables\n",
    "plt.title('Naive Bayes classification')\n",
    "plt.ylabel('True label')\n",
    "plt.xlabel('Predicted label')\n",
    "plt.show()"
   ]
  },
  {
   "cell_type": "markdown",
   "id": "68a3dac5",
   "metadata": {},
   "source": [
    "- __K-nearest neighbors__"
   ]
  },
  {
   "cell_type": "code",
   "execution_count": 35,
   "id": "d67c5e07",
   "metadata": {},
   "outputs": [
    {
     "name": "stdout",
     "output_type": "stream",
     "text": [
      "              precision    recall  f1-score   support\n",
      "\n",
      "          -1       0.56      0.40      0.47       278\n",
      "           0       0.42      0.37      0.40       425\n",
      "           1       0.74      0.75      0.74      1755\n",
      "           2       0.59      0.68      0.63       706\n",
      "\n",
      "    accuracy                           0.65      3164\n",
      "   macro avg       0.58      0.55      0.56      3164\n",
      "weighted avg       0.65      0.65      0.65      3164\n",
      "\n"
     ]
    },
    {
     "data": {
      "image/png": "[encoded data removed]",
      "text/plain": [
       "<Figure size 432x288 with 2 Axes>"
      ]
     },
     "metadata": {},
     "output_type": "display_data"
    }
   ],
   "source": [
    "# Generate a classification Report for the K-nearest neighbors model\n",
    "print(metrics.classification_report(y_valid, y_pred_knn))\n",
    "\n",
    "# Generate a normalized confusion matrix\n",
    "cm = confusion_matrix(y_valid, y_pred_knn)\n",
    "cm_norm = cm / cm.sum(axis=1).reshape(-1,1)\n",
    "\n",
    "# Display the confusion matrix as a heatmap\n",
    "sns.heatmap(cm_norm, \n",
    "            cmap=\"YlGnBu\", \n",
    "            xticklabels=knn.classes_, \n",
    "            yticklabels=knn.classes_, \n",
    "            vmin=0., \n",
    "            vmax=1., \n",
    "            annot=True, \n",
    "            annot_kws={'size':20})\n",
    "\n",
    "# Adding headings and lables\n",
    "plt.title('K - nearest neighbors classification')\n",
    "plt.ylabel('True label')\n",
    "plt.xlabel('Predicted label')\n",
    "plt.show()"
   ]
  },
  {
   "cell_type": "markdown",
   "id": "f8382e46",
   "metadata": {},
   "source": [
    "- __Logistic regression__"
   ]
  },
  {
   "cell_type": "code",
   "execution_count": 36,
   "id": "3230dfa5",
   "metadata": {},
   "outputs": [
    {
     "name": "stdout",
     "output_type": "stream",
     "text": [
      "              precision    recall  f1-score   support\n",
      "\n",
      "          -1       0.55      0.65      0.59       278\n",
      "           0       0.46      0.60      0.52       425\n",
      "           1       0.85      0.66      0.74      1755\n",
      "           2       0.65      0.84      0.73       706\n",
      "\n",
      "    accuracy                           0.69      3164\n",
      "   macro avg       0.63      0.69      0.65      3164\n",
      "weighted avg       0.72      0.69      0.70      3164\n",
      "\n"
     ]
    },
    {
     "data": {
      "image/png": "[encoded data removed]",
      "text/plain": [
       "<Figure size 432x288 with 2 Axes>"
      ]
     },
     "metadata": {},
     "output_type": "display_data"
    }
   ],
   "source": [
    "# Generate a classification Report for the Logistic regression model\n",
    "print(metrics.classification_report(y_valid, y_pred_lr))\n",
    "\n",
    "cm = confusion_matrix(y_valid, y_pred_lr)\n",
    "cm_norm = cm / cm.sum(axis=1).reshape(-1,1)\n",
    "\n",
    "sns.heatmap(cm_norm, \n",
    "            cmap=\"YlGnBu\", \n",
    "            xticklabels=lr.classes_, \n",
    "            yticklabels=lr.classes_, \n",
    "            vmin=0., \n",
    "            vmax=1., \n",
    "            annot=True, \n",
    "            annot_kws={'size':20})\n",
    "\n",
    "# Adding headings and lables\n",
    "plt.title('Logistic regression classification')\n",
    "plt.ylabel('True label')\n",
    "plt.xlabel('Predicted label')\n",
    "plt.show()"
   ]
  },
  {
   "cell_type": "markdown",
   "id": "704be1e8",
   "metadata": {},
   "source": [
    "- __Linear SVC__"
   ]
  },
  {
   "cell_type": "code",
   "execution_count": 37,
   "id": "b0edb934",
   "metadata": {},
   "outputs": [
    {
     "name": "stdout",
     "output_type": "stream",
     "text": [
      "              precision    recall  f1-score   support\n",
      "\n",
      "          -1       0.62      0.59      0.60       278\n",
      "           0       0.52      0.51      0.51       425\n",
      "           1       0.81      0.78      0.80      1755\n",
      "           2       0.73      0.83      0.78       706\n",
      "\n",
      "    accuracy                           0.74      3164\n",
      "   macro avg       0.67      0.68      0.67      3164\n",
      "weighted avg       0.74      0.74      0.74      3164\n",
      "\n"
     ]
    },
    {
     "data": {
      "image/png": "[encoded data removed]",
      "text/plain": [
       "<Figure size 432x288 with 2 Axes>"
      ]
     },
     "metadata": {},
     "output_type": "display_data"
    }
   ],
   "source": [
    "# Generate a classification Report for the linear SVC model\n",
    "print(metrics.classification_report(y_valid, y_pred_lsvc))\n",
    "\n",
    "# Generate a normalized confusion matrix\n",
    "cm = confusion_matrix(y_valid, y_pred_lsvc)\n",
    "cm_norm = cm / cm.sum(axis=1).reshape(-1,1)\n",
    "\n",
    "# Display the confusion matrix as a heatmap\n",
    "sns.heatmap(cm_norm, \n",
    "            cmap=\"YlGnBu\", \n",
    "            xticklabels=lsvc.classes_, \n",
    "            yticklabels=lsvc.classes_, \n",
    "            vmin=0., \n",
    "            vmax=1., \n",
    "            annot=True, \n",
    "            annot_kws={'size':20})\n",
    "\n",
    "# Adding headings and lables\n",
    "plt.title('Linear SVC classification')\n",
    "plt.ylabel('True label')\n",
    "plt.xlabel('Predicted label')\n",
    "plt.show()"
   ]
  },
  {
   "cell_type": "markdown",
   "id": "c8cd157e",
   "metadata": {},
   "source": [
    "<a id=\"six\"></a>\n",
    "## 6. Model Selection\n",
    "<a class=\"anchor\" id=\"1.1\"></a>\n",
    "<a href=#cont>Back to Table of Contents</a>\n",
    "\n",
    ">> It is evident from the above displays that __Linear SVC__ achieved the highest __F1 score__ of __0.70__ and is therefore our model of choice moving forward.\n"
   ]
  },
  {
   "cell_type": "markdown",
   "id": "12d636ab",
   "metadata": {},
   "source": [
    "Since our top performing model has been selected, we will attempt to improve it by performing some __hyperparameter tuning__.\n",
    "- After the optimal parameters are determined the linear SVC model is retrained using these parameters, resulting in a 2% increase in the F1 score."
   ]
  },
  {
   "cell_type": "markdown",
   "id": "e0efa7bb",
   "metadata": {},
   "source": [
    "#### Hyperparameter tuning"
   ]
  },
  {
   "cell_type": "code",
   "execution_count": 38,
   "id": "f102cbec",
   "metadata": {},
   "outputs": [],
   "source": [
    "# Retrain linear SVC using optimal hyperparameters:\n",
    "lsvc_op = Pipeline([('tfidf', TfidfVectorizer(max_df=0.8, min_df=2,ngram_range=(1,2))),\n",
    "                    \n",
    "                  ('clf', LinearSVC(C=0.3,class_weight='balanced',max_iter=3000))])"
   ]
  },
  {
   "cell_type": "code",
   "execution_count": 39,
   "id": "185b2b65",
   "metadata": {},
   "outputs": [
    {
     "name": "stdout",
     "output_type": "stream",
     "text": [
      "F1 score improved by -0.0 %\n"
     ]
    }
   ],
   "source": [
    "# Fit and predict\n",
    "lsvc_op.fit(X_train, y_train)\n",
    "y_pred = lsvc_op.predict(X_valid)\n",
    "\n",
    "print('F1 score improved by',\n",
    "      round(100*((metrics.accuracy_score(y_pred, y_valid) - metrics.accuracy_score(y_pred_lsvc, y_valid)) \n",
    "                 /metrics.accuracy_score(y_pred_lsvc, y_valid)),0), '%')"
   ]
  },
  {
   "cell_type": "markdown",
   "id": "53f93c77",
   "metadata": {},
   "source": [
    "## End Comet experiment"
   ]
  },
  {
   "cell_type": "code",
   "execution_count": 40,
   "id": "19da4228",
   "metadata": {},
   "outputs": [
    {
     "name": "stderr",
     "output_type": "stream",
     "text": [
      "COMET ERROR: invalid image file_type: <class 'dict'>\n",
      "COMET ERROR: Could not convert image_data into an image; ignored\n",
      "COMET INFO: ---------------------------\n",
      "COMET INFO: Comet.ml Experiment Summary\n",
      "COMET INFO: ---------------------------\n",
      "COMET INFO:   Data:\n",
      "COMET INFO:     display_summary_level : 1\n",
      "COMET INFO:     url                   : https://www.comet.ml/softmancho/climate-change-tweet-classification-predict/5817eda3363048bbba3cd54f22763a49\n",
      "COMET INFO:   Metrics:\n",
      "COMET INFO:     f1        : 0.7376728537927022\n",
      "COMET INFO:     precision : 0.741182541735599\n",
      "COMET INFO:     recall    : 0.7370417193426043\n",
      "COMET INFO:   Parameters:\n",
      "COMET INFO:     C                             : 0.3\n",
      "COMET INFO:     algorithm                     : auto\n",
      "COMET INFO:     alpha                         : 1.0\n",
      "COMET INFO:     bootstrap                     : True\n",
      "COMET INFO:     ccp_alpha                     : 0.0\n",
      "COMET INFO:     class_prior                   : 1\n",
      "COMET INFO:     class_weight                  : balanced\n",
      "COMET INFO:     classifier                    : linear SVC\n",
      "COMET INFO:     clf                           : LinearSVC(C=0.3, class_weight='balanced', max_iter=3000)\n",
      "COMET INFO:     clf_C                         : 0.3\n",
      "COMET INFO:     clf__C                        : 0.3\n",
      "COMET INFO:     clf__algorithm                : auto\n",
      "COMET INFO:     clf__alpha                    : 1.0\n",
      "COMET INFO:     clf__bootstrap                : True\n",
      "COMET INFO:     clf__ccp_alpha                : 0.0\n",
      "COMET INFO:     clf__class_prior              : 1\n",
      "COMET INFO:     clf__class_weight             : balanced\n",
      "COMET INFO:     clf__criterion                : gini\n",
      "COMET INFO:     clf__dual                     : True\n",
      "COMET INFO:     clf__fit_intercept            : True\n",
      "COMET INFO:     clf__fit_prior                : True\n",
      "COMET INFO:     clf__intercept_scaling        : 1\n",
      "COMET INFO:     clf__l1_ratio                 : 1\n",
      "COMET INFO:     clf__leaf_size                : 30\n",
      "COMET INFO:     clf__loss                     : squared_hinge\n",
      "COMET INFO:     clf__max_depth                : 5\n",
      "COMET INFO:     clf__max_features             : auto\n",
      "COMET INFO:     clf__max_iter                 : 3000\n",
      "COMET INFO:     clf__max_leaf_nodes           : 1\n",
      "COMET INFO:     clf__max_samples              : 1\n",
      "COMET INFO:     clf__metric                   : minkowski\n",
      "COMET INFO:     clf__metric_params            : 1\n",
      "COMET INFO:     clf__min_impurity_decrease    : 0.0\n",
      "COMET INFO:     clf__min_impurity_split       : 1\n",
      "COMET INFO:     clf__min_samples_leaf         : 1\n",
      "COMET INFO:     clf__min_samples_split        : 2\n",
      "COMET INFO:     clf__min_weight_fraction_leaf : 0.0\n",
      "COMET INFO:     clf__multi_class              : ovr\n",
      "COMET INFO:     clf__n_estimators             : 100\n",
      "COMET INFO:     clf__n_jobs                   : 1\n",
      "COMET INFO:     clf__n_neighbors              : 5\n",
      "COMET INFO:     clf__oob_score                : False\n",
      "COMET INFO:     clf__p                        : 2\n",
      "COMET INFO:     clf__penalty                  : l2\n",
      "COMET INFO:     clf__random_state             : 1\n",
      "COMET INFO:     clf__solver                   : lbfgs\n",
      "COMET INFO:     clf__tol                      : 0.0001\n",
      "COMET INFO:     clf__verbose                  : 0\n",
      "COMET INFO:     clf__warm_start               : False\n",
      "COMET INFO:     clf__weights                  : uniform\n",
      "COMET INFO:     clf_algorithm                 : auto\n",
      "COMET INFO:     clf_alpha                     : 1.0\n",
      "COMET INFO:     clf_bootstrap                 : True\n",
      "COMET INFO:     clf_ccp_alpha                 : 0.0\n",
      "COMET INFO:     clf_class_prior               : 1\n",
      "COMET INFO:     clf_class_weight              : balanced\n",
      "COMET INFO:     clf_criterion                 : gini\n",
      "COMET INFO:     clf_dual                      : True\n",
      "COMET INFO:     clf_fit_intercept             : True\n",
      "COMET INFO:     clf_fit_prior                 : True\n",
      "COMET INFO:     clf_intercept_scaling         : 1\n",
      "COMET INFO:     clf_l1_ratio                  : 1\n",
      "COMET INFO:     clf_leaf_size                 : 30\n",
      "COMET INFO:     clf_loss                      : squared_hinge\n",
      "COMET INFO:     clf_max_depth                 : 5\n",
      "COMET INFO:     clf_max_features              : auto\n",
      "COMET INFO:     clf_max_iter                  : 3000\n",
      "COMET INFO:     clf_max_leaf_nodes            : 1\n",
      "COMET INFO:     clf_max_samples               : 1\n",
      "COMET INFO:     clf_metric                    : minkowski\n",
      "COMET INFO:     clf_metric_params             : 1\n",
      "COMET INFO:     clf_min_impurity_decrease     : 0.0\n",
      "COMET INFO:     clf_min_impurity_split        : 1\n",
      "COMET INFO:     clf_min_samples_leaf          : 1\n",
      "COMET INFO:     clf_min_samples_split         : 2\n",
      "COMET INFO:     clf_min_weight_fraction_leaf  : 0.0\n",
      "COMET INFO:     clf_multi_class               : ovr\n",
      "COMET INFO:     clf_n_estimators              : 100\n",
      "COMET INFO:     clf_n_jobs                    : 1\n",
      "COMET INFO:     clf_n_neighbors               : 5\n",
      "COMET INFO:     clf_oob_score                 : False\n",
      "COMET INFO:     clf_p                         : 2\n",
      "COMET INFO:     clf_penalty                   : l2\n",
      "COMET INFO:     clf_random_state              : 1\n",
      "COMET INFO:     clf_solver                    : lbfgs\n",
      "COMET INFO:     clf_tol                       : 0.0001\n",
      "COMET INFO:     clf_verbose                   : 0\n",
      "COMET INFO:     clf_warm_start                : False\n",
      "COMET INFO:     clf_weights                   : uniform\n",
      "COMET INFO:     criterion                     : gini\n",
      "COMET INFO:     dual                          : True\n",
      "COMET INFO:     fit_intercept                 : True\n",
      "COMET INFO:     fit_prior                     : True\n",
      "COMET INFO:     intercept_scaling             : 1\n",
      "COMET INFO:     l1_ratio                      : 1\n",
      "COMET INFO:     leaf_size                     : 30\n",
      "COMET INFO:     loss                          : squared_hinge\n",
      "COMET INFO:     max_depth                     : 5\n",
      "COMET INFO:     max_df                        : 0.8\n",
      "COMET INFO:     max_features                  : auto\n",
      "COMET INFO:     max_iter                      : 3000\n",
      "COMET INFO:     max_leaf_nodes                : 1\n",
      "COMET INFO:     max_samples                   : 1\n",
      "COMET INFO:     memory                        : 1\n",
      "COMET INFO:     metric                        : minkowski\n",
      "COMET INFO:     metric_params                 : 1\n",
      "COMET INFO:     min_df                        : 2\n",
      "COMET INFO:     min_impurity_decrease         : 0.0\n",
      "COMET INFO:     min_impurity_split            : 1\n",
      "COMET INFO:     min_samples_leaf              : 1\n",
      "COMET INFO:     min_samples_split             : 2\n",
      "COMET INFO:     min_weight_fraction_leaf      : 0.0\n",
      "COMET INFO:     multi_class                   : ovr\n",
      "COMET INFO:     n_estimators                  : 100\n",
      "COMET INFO:     n_jobs                        : 1\n",
      "COMET INFO:     n_neighbors                   : 5\n",
      "COMET INFO:     neg_label                     : 0\n",
      "COMET INFO:     ngram_range                   : (1,2)\n",
      "COMET INFO:     norm                          : l2\n",
      "COMET INFO:     oob_score                     : False\n",
      "COMET INFO:     p                             : 2\n",
      "COMET INFO:     penalty                       : l2\n",
      "COMET INFO:     pos_label                     : 1\n",
      "COMET INFO:     random_state                  : 102\n",
      "COMET INFO:     resampling                    : no\n",
      "COMET INFO:     scaling                       : no\n",
      "COMET INFO:     smooth_idf                    : True\n",
      "COMET INFO:     solver                        : lbfgs\n",
      "COMET INFO:     sparse_output                 : False\n",
      "COMET INFO:     splitter                      : best\n",
      "COMET INFO:     steps                         : [('tfidf', TfidfVectorizer(max_df=0.8, min_df=2, ngram_range=(1, 2))), ('clf', LinearSVC(C=0.3, class_weight='balanced', max_iter=3000))]\n",
      "COMET INFO:     sublinear_tf                  : False\n",
      "COMET INFO:     test_train random state       : 0\n",
      "COMET INFO:     tfidf                         : TfidfVectorizer(max_df=0.8, min_df=2, ngram_range=(1, 2))\n",
      "COMET INFO:     tfidf__analyzer               : word\n",
      "COMET INFO:     tfidf__binary                 : False\n",
      "COMET INFO:     tfidf__decode_error           : strict\n",
      "COMET INFO:     tfidf__dtype                  : <class 'numpy.float64'>\n",
      "COMET INFO:     tfidf__encoding               : utf-8\n",
      "COMET INFO:     tfidf__input                  : content\n"
     ]
    },
    {
     "name": "stderr",
     "output_type": "stream",
     "text": [
      "COMET INFO:     tfidf__lowercase              : True\n",
      "COMET INFO:     tfidf__max_df                 : 0.8\n",
      "COMET INFO:     tfidf__max_features           : 1\n",
      "COMET INFO:     tfidf__min_df                 : 2\n",
      "COMET INFO:     tfidf__ngram_range            : (1, 2)\n",
      "COMET INFO:     tfidf__norm                   : l2\n",
      "COMET INFO:     tfidf__preprocessor           : 1\n",
      "COMET INFO:     tfidf__smooth_idf             : True\n",
      "COMET INFO:     tfidf__stop_words             : 1\n",
      "COMET INFO:     tfidf__strip_accents          : 1\n",
      "COMET INFO:     tfidf__sublinear_tf           : False\n",
      "COMET INFO:     tfidf__token_pattern          : (?u)\\b\\w\\w+\\b\n",
      "COMET INFO:     tfidf__tokenizer              : 1\n",
      "COMET INFO:     tfidf__use_idf                : True\n",
      "COMET INFO:     tfidf__vocabulary             : 1\n",
      "COMET INFO:     tfidf_analyzer                : word\n",
      "COMET INFO:     tfidf_binary                  : False\n",
      "COMET INFO:     tfidf_decode_error            : strict\n",
      "COMET INFO:     tfidf_dtype                   : <class 'numpy.float64'>\n",
      "COMET INFO:     tfidf_encoding                : utf-8\n",
      "COMET INFO:     tfidf_input                   : content\n",
      "COMET INFO:     tfidf_lowercase               : True\n",
      "COMET INFO:     tfidf_max_df                  : 0.8\n",
      "COMET INFO:     tfidf_max_features            : 1\n",
      "COMET INFO:     tfidf_min_df                  : 2\n",
      "COMET INFO:     tfidf_ngram_range             : (1, 2)\n",
      "COMET INFO:     tfidf_norm                    : l2\n",
      "COMET INFO:     tfidf_preprocessor            : 1\n",
      "COMET INFO:     tfidf_smooth_idf              : True\n",
      "COMET INFO:     tfidf_stop_words              : 1\n",
      "COMET INFO:     tfidf_strip_accents           : 1\n",
      "COMET INFO:     tfidf_sublinear_tf            : False\n",
      "COMET INFO:     tfidf_token_pattern           : (?u)\\b\\w\\w+\\b\n",
      "COMET INFO:     tfidf_tokenizer               : 1\n",
      "COMET INFO:     tfidf_use_idf                 : True\n",
      "COMET INFO:     tfidf_vocabulary              : 1\n",
      "COMET INFO:     tol                           : 0.0001\n",
      "COMET INFO:     use_idf                       : True\n",
      "COMET INFO:     vectorizer                    : Tfidf\n",
      "COMET INFO:     verbose                       : 0\n",
      "COMET INFO:     warm_start                    : False\n",
      "COMET INFO:     weights                       : uniform\n",
      "COMET INFO:   Uploads:\n",
      "COMET INFO:     conda-info          : 1\n",
      "COMET INFO:     conda-specification : 1\n",
      "COMET INFO:     environment details : 1\n",
      "COMET INFO:     filename            : 1\n",
      "COMET INFO:     installed packages  : 1\n",
      "COMET INFO:     notebook            : 1\n",
      "COMET INFO:     source_code         : 1\n",
      "COMET INFO: ---------------------------\n",
      "COMET INFO: Uploading metrics, params, and assets to Comet before program termination (may take several seconds)\n",
      "COMET INFO: The Python SDK has 3600 seconds to finish before aborting...\n"
     ]
    },
    {
     "data": {
      "text/html": [
       "\n",
       "        <iframe\n",
       "            width=\"100%\"\n",
       "            height=\"800px\"\n",
       "            src=\"https://www.comet.ml/softmancho/climate-change-tweet-classification-predict/5817eda3363048bbba3cd54f22763a49\"\n",
       "            frameborder=\"0\"\n",
       "            allowfullscreen\n",
       "            \n",
       "        ></iframe>\n",
       "        "
      ],
      "text/plain": [
       "<IPython.lib.display.IFrame at 0x170bcf5eb50>"
      ]
     },
     "metadata": {},
     "output_type": "display_data"
    }
   ],
   "source": [
    "# Saving each metric to add to a dictionary for logging\n",
    "f1 = f1_score(y_valid, y_pred, average='weighted')\n",
    "precision = precision_score(y_valid, y_pred, average='weighted')\n",
    "recall = recall_score(y_valid, y_pred, average='weighted')\n",
    "\n",
    "# Create dictionaries for the data we want to log          \n",
    "metrics = {\"f1\": f1,\n",
    "           \"recall\": recall,\n",
    "           \"precision\": precision}\n",
    "\n",
    "params= {'classifier': 'linear SVC',\n",
    "         'max_df': 0.8,\n",
    "         'min_df': 2,\n",
    "         'ngram_range': '(1,2)',\n",
    "         'vectorizer': 'Tfidf',\n",
    "         'scaling': 'no',\n",
    "         'resampling': 'no',\n",
    "         'test_train random state': '0'}\n",
    "  \n",
    "# Log info on comet\n",
    "experiment.log_metrics(metrics)\n",
    "experiment.log_parameters(params)\n",
    "\n",
    "# Log image\n",
    "experiment.log_image(metrics)\n",
    "\n",
    "# End experiment\n",
    "experiment.end()\n",
    "\n",
    "# Display results on comet page\n",
    "experiment.display()"
   ]
  },
  {
   "cell_type": "markdown",
   "id": "0bfae484",
   "metadata": {},
   "source": [
    ">> __experiment.end()__ command simply means that everything logged into this notebook can now be uploaded to our project on comet"
   ]
  },
  {
   "cell_type": "markdown",
   "id": "93b7283d",
   "metadata": {},
   "source": [
    "### generate the csv file to submmit to kaggle"
   ]
  },
  {
   "cell_type": "code",
   "execution_count": 41,
   "id": "6d1b5385",
   "metadata": {},
   "outputs": [
    {
     "data": {
      "text/html": [
       "<div>\n",
       "<style scoped>\n",
       "    .dataframe tbody tr th:only-of-type {\n",
       "        vertical-align: middle;\n",
       "    }\n",
       "\n",
       "    .dataframe tbody tr th {\n",
       "        vertical-align: top;\n",
       "    }\n",
       "\n",
       "    .dataframe thead th {\n",
       "        text-align: right;\n",
       "    }\n",
       "</style>\n",
       "<table border=\"1\" class=\"dataframe\">\n",
       "  <thead>\n",
       "    <tr style=\"text-align: right;\">\n",
       "      <th></th>\n",
       "      <th>tweetid</th>\n",
       "      <th>sentiment</th>\n",
       "    </tr>\n",
       "  </thead>\n",
       "  <tbody>\n",
       "    <tr>\n",
       "      <th>0</th>\n",
       "      <td>169760</td>\n",
       "      <td>1</td>\n",
       "    </tr>\n",
       "    <tr>\n",
       "      <th>1</th>\n",
       "      <td>35326</td>\n",
       "      <td>1</td>\n",
       "    </tr>\n",
       "    <tr>\n",
       "      <th>2</th>\n",
       "      <td>224985</td>\n",
       "      <td>1</td>\n",
       "    </tr>\n",
       "    <tr>\n",
       "      <th>3</th>\n",
       "      <td>476263</td>\n",
       "      <td>1</td>\n",
       "    </tr>\n",
       "    <tr>\n",
       "      <th>4</th>\n",
       "      <td>872928</td>\n",
       "      <td>0</td>\n",
       "    </tr>\n",
       "    <tr>\n",
       "      <th>...</th>\n",
       "      <td>...</td>\n",
       "      <td>...</td>\n",
       "    </tr>\n",
       "    <tr>\n",
       "      <th>10541</th>\n",
       "      <td>895714</td>\n",
       "      <td>-1</td>\n",
       "    </tr>\n",
       "    <tr>\n",
       "      <th>10542</th>\n",
       "      <td>875167</td>\n",
       "      <td>1</td>\n",
       "    </tr>\n",
       "    <tr>\n",
       "      <th>10543</th>\n",
       "      <td>78329</td>\n",
       "      <td>1</td>\n",
       "    </tr>\n",
       "    <tr>\n",
       "      <th>10544</th>\n",
       "      <td>867455</td>\n",
       "      <td>0</td>\n",
       "    </tr>\n",
       "    <tr>\n",
       "      <th>10545</th>\n",
       "      <td>470892</td>\n",
       "      <td>2</td>\n",
       "    </tr>\n",
       "  </tbody>\n",
       "</table>\n",
       "<p>10546 rows × 2 columns</p>\n",
       "</div>"
      ],
      "text/plain": [
       "       tweetid  sentiment\n",
       "0       169760          1\n",
       "1        35326          1\n",
       "2       224985          1\n",
       "3       476263          1\n",
       "4       872928          0\n",
       "...        ...        ...\n",
       "10541   895714         -1\n",
       "10542   875167          1\n",
       "10543    78329          1\n",
       "10544   867455          0\n",
       "10545   470892          2\n",
       "\n",
       "[10546 rows x 2 columns]"
      ]
     },
     "execution_count": 41,
     "metadata": {},
     "output_type": "execute_result"
    }
   ],
   "source": [
    "def gen_kaggle_csv(model, df):\n",
    "    \n",
    "    #load the test data to a varable \"X_unseen\"\n",
    "    X_test = df['message']\n",
    "    \n",
    "    #Make a prediction on the test data with the trained model\n",
    "    mypreds = model.predict(X_test)\n",
    "    \n",
    "    #Reset the index of the test data\n",
    "    df.reset_index(inplace=True)\n",
    "    \n",
    "    #Make a copy of the tweet id \n",
    "    tweetid = df['tweetid']\n",
    "    \n",
    "    #Convert the tweet_id and the prediction \n",
    "    kaggle = pd.DataFrame({'tweetid' : tweetid, \n",
    "                                  'sentiment': mypreds})\n",
    "    \n",
    "    #convert file to csv\n",
    "    kaggle.to_csv('kaggle.csv', index=False)\n",
    "\n",
    "    return kaggle\n",
    "gen_kaggle_csv(lsvc, test_df)"
   ]
  },
  {
   "cell_type": "markdown",
   "id": "9c48824d",
   "metadata": {},
   "source": [
    "### Pickle Trained Model"
   ]
  },
  {
   "cell_type": "code",
   "execution_count": 42,
   "id": "cec91bfb",
   "metadata": {},
   "outputs": [
    {
     "data": {
      "text/plain": [
       "'lsvc_model.pkl'"
      ]
     },
     "execution_count": 42,
     "metadata": {},
     "output_type": "execute_result"
    }
   ],
   "source": [
    "def save_pickle_file(model, file_name):\n",
    "    # import the pickle module\n",
    "    import pickle\n",
    "    \n",
    "    #asign a path to the file_name \n",
    "    model_save_path = file_name \n",
    "    \n",
    "    #save file to thespecified path\n",
    "    with open(model_save_path,'wb') as file: \n",
    "        pickle.dump(model,file)\n",
    "    \n",
    "    return  model_save_path\n",
    "\n",
    "save_pickle_file(lsvc, \"lsvc_model.pkl\")"
   ]
  },
  {
   "cell_type": "markdown",
   "id": "37d54335",
   "metadata": {},
   "source": [
    "<a id=\"seven\"></a>\n",
    "## 7. Conclusion\n",
    "<a class=\"anchor\" id=\"1.1\"></a>\n",
    "<a href=#cont>Back to Table of Contents</a>"
   ]
  },
  {
   "cell_type": "code",
   "execution_count": null,
   "id": "c92c353b",
   "metadata": {},
   "outputs": [],
   "source": []
  },
  {
   "cell_type": "markdown",
   "id": "f6b7382f",
   "metadata": {},
   "source": [
    "<a id=\"eight\"></a>\n",
    "## 8. Refrences\n",
    "<a class=\"anchor\" id=\"1.1\"></a>\n",
    "<a href=#cont>Back to Table of Contents</a>\n",
    "\n",
    "\n",
    "- **Data Cleaning**\n",
    "- NLP for beginners - sentiment analysis of twitter data using sklearn in python: https://www.youtube.com/watch?v=qzBtplRo91o#<br>\n",
    "- Sentiment analysis using sklearn python in IMDB dataset: https://www.youtube.com/watch?v=glHWiQRgLn4<br>\n",
    "- Complete eda on text data in python: https://www.youtube.com/watch?v=HVBk2Ge_Q98<br>\n",
    "- Text data cleaning of tweets analysis: https://www.kaggle.com/code/ragnisah/text-data-cleaning-tweets-analysis/notebook\n"
   ]
  },
  {
   "cell_type": "markdown",
   "id": "6856df47",
   "metadata": {},
   "source": [
    " - **Feature Engineering**\n",
    ">- Vectorization techniques: https://neptune.ai/blog/vectorization-techniques-in-nlp-guide\n",
    ">- How to use TFDIF vectorizer: https://www.projectpro.io/recipes/use-tf-df-vectorizer\n",
    ">- Vectorization techniques: https://neptune.ai/blog/vectorization-techniques-in-nlp-guide\n",
    ">- How to use TFDIF vectorizer: https://www.projectpro.io/recipes/use-tf-df-vectorizer"
   ]
  },
  {
   "cell_type": "markdown",
   "id": "22695275",
   "metadata": {},
   "source": [
    "- Thank you"
   ]
  }
 ],
 "metadata": {
  "kernelspec": {
   "display_name": "Python 3 (ipykernel)",
   "language": "python",
   "name": "python3"
  },
  "language_info": {
   "codemirror_mode": {
    "name": "ipython",
    "version": 3
   },
   "file_extension": ".py",
   "mimetype": "text/x-python",
   "name": "python",
   "nbconvert_exporter": "python",
   "pygments_lexer": "ipython3",
   "version": "3.9.7"
  }
 },
 "nbformat": 4,
 "nbformat_minor": 5
}
