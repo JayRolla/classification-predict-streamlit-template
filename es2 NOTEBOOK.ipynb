{
 "cells": [
  {
   "cell_type": "markdown",
   "id": "ebd943e8",
   "metadata": {},
   "source": [
    "# ADVANCED CLASSIFICATION PREDICT\n",
    "© Explore Data Science Academy\n",
    "\n",
    "---\n",
    "\n",
    "\n",
    "#### Climate Change\n",
    "* Climate is the average weather in a place over many years. Climate change is a shift in those average conditions.\n",
    "* The rapid climate change is caused by humans using oil, gas and coal for their homes, factories and transport.\n",
    "* When these fossil fuels burn, they release greenhouse gases - mostly carbon dioxide (CO2). These gases trap the Sun's heat and cause the planet's temperature to rise.\n",
    "\n",
    "\n",
    "---\n",
    "\n",
    "\n",
    "## <u> Predict Overview: Climate Change Belief Analysis 2022 </u>\n",
    "\n",
    "#### <u> PROBLEM STATEMENT </u>\n",
    "Many companies are built around lessening one’s environmental impact or carbon footprint. They offer products and services that are environmentally friendly and sustainable, in line with their values and ideals. They would like to determine how people perceive climate change and whether or not they believe it is a real threat. This would add to their market research efforts in gauging how their product/service may be received.\n",
    "\n",
    "> Providing an accurate and robust solution to this task gives companies access to a broad base of consumer sentiment, spanning multiple demographic and geographic categories - thus increasing their insights and informing future marketing strategies\n",
    "\n",
    "---\n",
    "\n",
    "#### <u> TASK AHEAD </u>\n",
    "With this context, EDSA is challenging us during the Classification Sprint with the task of creating a Machine Learning model that is able to classify whether or not a person believes in climate change, based on their novel tweet data.\n",
    "\n",
    "> Predict an individual’s belief in climate change based on historical tweet data\n",
    "\n",
    "\n",
    "---\n",
    "\n",
    "<a id=\"cont\"></a>\n",
    "\n",
    "#### <u> PROCESS\n",
    "\n",
    "<a href=#one>1. Importing Packages</a>\n",
    "\n",
    "<a href=#two>2. Loading Data</a>\n",
    "\n",
    "<a href=#three>3. Exploratory Data Analysis (EDA)</a>\n",
    "\n",
    "<a href=#four>4. Exploratory Data Analysis (EDA)</a>\n",
    "\n",
    "<a href=#four>5. Data Engineering</a>\n",
    "\n",
    "<a href=#five>6. Modeling</a>\n",
    "\n",
    "<a href=#six>7. Model Performance</a>\n",
    "\n",
    "<a href=#seven>8. Model Explanations</a>\n",
    "\n",
    "<a href=#seven>9. Conclusion</a>\n",
    "\n",
    "<a href=#seven>10. Refrences</a>\n",
    "\n",
    "    \n",
    "---"
   ]
  },
  {
   "cell_type": "markdown",
   "id": "a9671647",
   "metadata": {},
   "source": [
    "> Just before the importation of packages, let's connect to __Comet__"
   ]
  },
  {
   "cell_type": "code",
   "execution_count": 1,
   "id": "911cc50e",
   "metadata": {
    "scrolled": true
   },
   "outputs": [],
   "source": [
    "# !pip install comet_ml"
   ]
  },
  {
   "cell_type": "code",
   "execution_count": 2,
   "id": "6272e5f5",
   "metadata": {},
   "outputs": [],
   "source": [
    "# import comet_ml at the top of your file\n",
    "from comet_ml import Experiment"
   ]
  },
  {
   "cell_type": "code",
   "execution_count": 3,
   "id": "2d6424a4",
   "metadata": {
    "scrolled": true
   },
   "outputs": [
    {
     "name": "stderr",
     "output_type": "stream",
     "text": [
      "COMET WARNING: As you are running in a Jupyter environment, you will need to call `experiment.end()` when finished to ensure all metrics and code are logged before exiting.\n",
      "COMET INFO: Couldn't find a Git repository in 'C:\\\\Users\\\\USER\\\\Downloads\\\\Advanced_Classification_Predict-student_data-2780\\\\Advanced classification predict' nor in any parent directory. You can override where Comet is looking for a Git Patch by setting the configuration `COMET_GIT_DIRECTORY`\n",
      "COMET INFO: Experiment is live on comet.ml https://www.comet.ml/softmancho/climate-change-tweet-classification-predict/89cb23dbe57c4c1a970203be22392e9d\n",
      "\n"
     ]
    }
   ],
   "source": [
    "# Create an experiment with your api key\n",
    "experiment = Experiment(\n",
    "    api_key=\"gwwsjpgy1KtBxQNzAWYIZvNkn\",\n",
    "    project_name=\"climate-change-tweet-classification-predict\",\n",
    "    workspace=\"softmancho\",\n",
    ")"
   ]
  },
  {
   "cell_type": "markdown",
   "id": "91430d98",
   "metadata": {},
   "source": [
    "> The above code is the connection between this __notebook__ and the workspace on __comet__ which helps to record our experiment<br>\n",
    "\n",
    "\n",
    "> -*The comet account used for this project belongs to a member of the team*"
   ]
  },
  {
   "attachments": {
    "climate%203.jpg": {
     "image/jpeg": "[encoded data removed]"
    }
   },
   "cell_type": "markdown",
   "id": "2a0edf46",
   "metadata": {},
   "source": [
    "---\n",
    "\n",
    "\n",
    "\n",
    "![climate%203.jpg](attachment:climate%203.jpg)\n",
    "\n",
    "\n"
   ]
  },
  {
   "cell_type": "markdown",
   "id": "bc4c0024",
   "metadata": {},
   "source": [
    "---\n",
    "\n",
    "<a id=\"one\"></a>\n",
    "## 1. Importing Packages\n",
    "<a href=#cont>Back to Table of Contents</a>\n",
    "\n",
    "---"
   ]
  },
  {
   "cell_type": "code",
   "execution_count": 4,
   "id": "b13d1942",
   "metadata": {},
   "outputs": [
    {
     "ename": "ModuleNotFoundError",
     "evalue": "No module named 'wordcloud'",
     "output_type": "error",
     "traceback": [
      "\u001b[1;31m---------------------------------------------------------------------------\u001b[0m",
      "\u001b[1;31mModuleNotFoundError\u001b[0m                       Traceback (most recent call last)",
      "\u001b[1;32m~\\AppData\\Local\\Temp/ipykernel_11368/1246100049.py\u001b[0m in \u001b[0;36m<module>\u001b[1;34m\u001b[0m\n\u001b[0;32m     29\u001b[0m \u001b[0msns\u001b[0m\u001b[1;33m.\u001b[0m\u001b[0mset\u001b[0m\u001b[1;33m(\u001b[0m\u001b[1;33m)\u001b[0m\u001b[1;33m\u001b[0m\u001b[1;33m\u001b[0m\u001b[0m\n\u001b[0;32m     30\u001b[0m \u001b[1;33m\u001b[0m\u001b[0m\n\u001b[1;32m---> 31\u001b[1;33m \u001b[1;32mfrom\u001b[0m \u001b[0mwordcloud\u001b[0m \u001b[1;32mimport\u001b[0m \u001b[0mWordCloud\u001b[0m\u001b[1;33m\u001b[0m\u001b[1;33m\u001b[0m\u001b[0m\n\u001b[0m\u001b[0;32m     32\u001b[0m \u001b[1;33m\u001b[0m\u001b[0m\n\u001b[0;32m     33\u001b[0m \u001b[1;31m# Building classification models\u001b[0m\u001b[1;33m\u001b[0m\u001b[1;33m\u001b[0m\u001b[0m\n",
      "\u001b[1;31mModuleNotFoundError\u001b[0m: No module named 'wordcloud'"
     ]
    }
   ],
   "source": [
    "# Libraries for importing and loading data\n",
    "import numpy as np\n",
    "import pandas as pd\n",
    "\n",
    "# Libraries for data preparation \n",
    "import re\n",
    "import string\n",
    "from sklearn import preprocessing\n",
    "from sklearn.model_selection import train_test_split\n",
    "from nltk.tokenize import word_tokenize, TreebankWordTokenizer\n",
    "from nltk.tokenize import TreebankWordTokenizer\n",
    "from nltk import SnowballStemmer\n",
    "from nltk.stem import WordNetLemmatizer\n",
    "from nltk.corpus import stopwords\n",
    "from nltk.corpus import wordnet \n",
    "\n",
    "from sklearn.preprocessing import LabelEncoder\n",
    "from sklearn.preprocessing import MinMaxScaler\n",
    "from sklearn.feature_extraction.text import TfidfVectorizer\n",
    "from sklearn.feature_extraction.text import CountVectorizer\n",
    "import nltk\n",
    "\n",
    "# Libraries for data visualizations\n",
    "import matplotlib.pyplot as plt\n",
    "import seaborn as sns\n",
    "%matplotlib inline\n",
    "\n",
    "# set plot style\n",
    "sns.set()\n",
    "\n",
    "from wordcloud import WordCloud\n",
    "\n",
    "# Building classification models\n",
    "from sklearn.pipeline import Pipeline\n",
    "from sklearn.svm import LinearSVC\n",
    "from sklearn.naive_bayes import MultinomialNB\n",
    "from sklearn.neighbors import KNeighborsClassifier\n",
    "from sklearn.ensemble import RandomForestClassifier\n",
    "from sklearn.linear_model import LogisticRegression\n",
    "\n",
    "\n",
    "# Libraries for assessing model accuracy \n",
    "from sklearn.metrics import accuracy_score\n",
    "from sklearn.metrics import roc_auc_score\n",
    "from sklearn.metrics import recall_score\n",
    "from sklearn.metrics import precision_score\n",
    "from sklearn.metrics import f1_score\n",
    "from sklearn.metrics import classification_report\n",
    "\n",
    "\n",
    "from sklearn import metrics\n",
    "from sklearn.metrics import classification_report, confusion_matrix, f1_score, precision_score, recall_score\n",
    "\n",
    "\n",
    "from wordcloud import WordCloud, STOPWORDS , ImageColorGenerator\n",
    "\n",
    "# Setting global constants to ensure notebook results are reproducible\n",
    "\n",
    "RANDOM_STATE = 42\n",
    "\n",
    "\n",
    "import warnings\n",
    "warnings.filterwarnings('ignore')"
   ]
  },
  {
   "cell_type": "code",
   "execution_count": null,
   "id": "668ac5c2",
   "metadata": {},
   "outputs": [],
   "source": [
    "# Download NLTK Corpora\n",
    "nltk.download(['punkt','stopwords'])"
   ]
  },
  {
   "cell_type": "markdown",
   "id": "af804878",
   "metadata": {},
   "source": [
    "<a id=\"two\"></a>\n",
    "## 2. Loading Data\n",
    "<a href=#cont>Back to Table of Contents</a>\n",
    "\n",
    "---"
   ]
  },
  {
   "cell_type": "code",
   "execution_count": null,
   "id": "ed2047cc",
   "metadata": {},
   "outputs": [],
   "source": [
    "# load the train data\n",
    "train_df = pd.read_csv('train.csv')\n",
    "train_df.head()"
   ]
  },
  {
   "cell_type": "markdown",
   "id": "c22b59d8",
   "metadata": {},
   "source": [
    ">> Looking at the top five rows of our data above, we can see all our features as well as the types of data we are working with.Our features are: **sentiment**(**2** News,**1** Pro,**0** Neutral,**-1** Anti), **message** and **tweetid**.<br> \n",
    "> Looking specifically at the data type of each feature, we can determine whether a variable is numerical, or categorical. Currently the **categorical** feature is message while sentiment and tweetid are **numerical**.\n"
   ]
  },
  {
   "cell_type": "code",
   "execution_count": null,
   "id": "cb673c20",
   "metadata": {},
   "outputs": [],
   "source": [
    "test_df = pd.read_csv('test_with_no_labels.csv')\n",
    "test_df.head()"
   ]
  },
  {
   "cell_type": "markdown",
   "id": "8ab6aeb1",
   "metadata": {},
   "source": [
    ">> The result of the above test data reveals two independent variables, **message** and **tweetid**, which are supposed to be used in predicting **sentiment**"
   ]
  },
  {
   "cell_type": "markdown",
   "id": "420104fb",
   "metadata": {},
   "source": [
    "<a id=\"three\"></a>\n",
    "## 3. Exploratory Data Analysis (EDA)\n",
    "<a class=\"anchor\" id=\"1.1\"></a>\n",
    "<a href=#cont>Back to Table of Contents</a>\n",
    "\n",
    "---\n"
   ]
  },
  {
   "cell_type": "markdown",
   "id": "187d5eaa",
   "metadata": {},
   "source": [
    "\n",
    "**Variable definitions**\n",
    "\n",
    "> - sentiment: Sentiment of tweet\n",
    "> - message: Tweet body\n",
    "> - tweetid: Twitter unique id"
   ]
  },
  {
   "cell_type": "markdown",
   "id": "946637a4",
   "metadata": {},
   "source": [
    "We can get the total number of rows and columns from the data set using “.shape” like below "
   ]
  },
  {
   "cell_type": "code",
   "execution_count": null,
   "id": "9b8e9533",
   "metadata": {},
   "outputs": [],
   "source": [
    "#look at the size of the train dataset in terms of rows and columns\n",
    "train_df.shape"
   ]
  },
  {
   "cell_type": "code",
   "execution_count": null,
   "id": "a0eb2b69",
   "metadata": {},
   "outputs": [],
   "source": [
    "#look at the size of the test dataset in terms of rows and columns\n",
    "test_df.shape"
   ]
  },
  {
   "cell_type": "markdown",
   "id": "37700d1f",
   "metadata": {},
   "source": [
    ">> The shape command shows that we have **15819** rows and **3** features in the **train** dataset\n",
    "and **10546** rows and **2** columns in the **test** dataset."
   ]
  },
  {
   "cell_type": "markdown",
   "id": "43fd48fa",
   "metadata": {},
   "source": [
    "Lets find what all columns contain, of what types and if they contain any value or not, with the help of info() function."
   ]
  },
  {
   "cell_type": "code",
   "execution_count": null,
   "id": "37489b39",
   "metadata": {},
   "outputs": [],
   "source": [
    "# Check data types for all columns\n",
    "train_df.info()"
   ]
  },
  {
   "cell_type": "markdown",
   "id": "19103e18",
   "metadata": {},
   "source": [
    ">> By observing the above data, we can conclude −<br>\n",
    ">>  Data contains an __Object__ value and two __Int__eger values<br>\n",
    ">> All the columns variable are non-null (no-empty or missing value).\n"
   ]
  },
  {
   "cell_type": "markdown",
   "id": "8fd5af25",
   "metadata": {},
   "source": [
    "### 3.1  Analysis of the  tweet classes (*sentiment*) variable\n",
    "    \n",
    "---"
   ]
  },
  {
   "cell_type": "markdown",
   "id": "9038d50a",
   "metadata": {},
   "source": [
    "#### In this section of the EDA, we will perform an in-depth analysis of the **sentiment** variable in the train DataFrame.\n",
    "\n",
    "- The first step is to create a copy of the train dataframe for the EDA.\n",
    "\n",
    "---\n"
   ]
  },
  {
   "cell_type": "code",
   "execution_count": null,
   "id": "7a7eb12d",
   "metadata": {},
   "outputs": [],
   "source": [
    "def update(df):\n",
    "    \n",
    "    df_copy=df.copy()\n",
    "    \n",
    "    word_sentiment=[]\n",
    "\n",
    "    for i in  df_copy['sentiment'] :\n",
    "        if i == 1 :\n",
    "            word_sentiment.append('Pro')  \n",
    "        elif i == 0 :\n",
    "            word_sentiment.append('Neutral')\n",
    "        elif i == -1 :\n",
    "            word_sentiment.append('Anti')\n",
    "        else :\n",
    "            word_sentiment.append('News')\n",
    "            \n",
    "    df_copy['sentiment']=word_sentiment\n",
    "    \n",
    "    return df_copy\n",
    "\n",
    "df_class = update(train_df)\n",
    "df_class.head()"
   ]
  },
  {
   "cell_type": "markdown",
   "id": "3dbeccf4",
   "metadata": {},
   "source": [
    ">> Great, we have been able to assign a description to the classes.<br> Now, Lets try and get the number of times each class appeared and maybe a plot to visualize our analysis"
   ]
  },
  {
   "cell_type": "code",
   "execution_count": null,
   "id": "ea44be5a",
   "metadata": {},
   "outputs": [],
   "source": [
    "df_class['sentiment'].value_counts()"
   ]
  },
  {
   "cell_type": "code",
   "execution_count": null,
   "id": "6cf4bf7d",
   "metadata": {
    "scrolled": false
   },
   "outputs": [],
   "source": [
    "# Visualizating the classes\n",
    "import seaborn as sns\n",
    "sns.countplot(df_class['sentiment'])"
   ]
  },
  {
   "cell_type": "markdown",
   "id": "84abb1d3",
   "metadata": {},
   "source": [
    "> A **countplot** can be thought off as a histogram across a categorical instead of quantitative variable and gives the result of a barplot.<br>So we generated a count plot of the sentiment feature, where each bar represents a class description from the dataset and the height represents how many times that each class description occurred. This was done by using **seaborn's countplot**\n",
    "\n",
    "\n",
    "---"
   ]
  },
  {
   "cell_type": "markdown",
   "id": "2b2df5b1",
   "metadata": {},
   "source": [
    "#### lets see if we can get an insight of the most frequently used __hashtagged__ word for the different tweet classes. This is done before tweet cleaning to ensure no information is lost.\n",
    "\n",
    "- Hashtags are extracted from the original tweets and stored in seperate dataframes for each class. \n",
    "\n",
    "---"
   ]
  },
  {
   "cell_type": "code",
   "execution_count": null,
   "id": "48283fbc",
   "metadata": {},
   "outputs": [],
   "source": [
    "def hashtag_extract(tweet):\n",
    "\n",
    "    # Extract all hashtags from the message column of the dataframe,    \n",
    "    hashtags = []\n",
    "    for i in tweet.str.lower():\n",
    "        ht = re.findall(r\"#(\\w+)\", i)\n",
    "        hashtags.append(ht)\n",
    "\n",
    "    # add all extracted hashtags to a list called hashtags\n",
    "    hashtags = sum(hashtags,[])\n",
    "\n",
    "    # generate the frequency count for each hashtag in the dataframe\n",
    "    frequency = nltk.FreqDist(hashtags)\n",
    "\n",
    "    # convert the generated frquency count dictionary of each hashtags back to a new dataframe\n",
    "    hashtag_df = pd.DataFrame({ 'hashtags': list(frequency.keys()),\n",
    "                               'counts': list(frequency.values())\n",
    "                             })\n",
    "    # select the first 20 largest frequency count of each hashtag\n",
    "    hashtag_df = hashtag_df.nlargest(20, columns='counts')\n",
    "    \n",
    "    return hashtag_df"
   ]
  },
  {
   "cell_type": "code",
   "execution_count": null,
   "id": "abe60d06",
   "metadata": {},
   "outputs": [],
   "source": [
    "# Extracting the hashtags from tweets in each class\n",
    "\n",
    "pro =     hashtag_extract( df_class ['message'][df_class ['sentiment'] == 'Pro']     )\n",
    "anti =    hashtag_extract( df_class ['message'][df_class['sentiment'] == 'Anti']    )\n",
    "neutral = hashtag_extract( df_class ['message'][df_class ['sentiment'] == 'Neutral'] )\n",
    "news =    hashtag_extract( df_class ['message'][df_class['sentiment'] == 'News']    )\n",
    "\n",
    "pro.head()"
   ]
  },
  {
   "cell_type": "markdown",
   "id": "695c3711",
   "metadata": {},
   "source": [
    ">> Hashtags have long been an important tool on Twitter for helping users organize and sort their tweets.<br> The above cell output helped us to gain a better understanding of what kind of information is being consumed and shared in each class."
   ]
  },
  {
   "cell_type": "markdown",
   "id": "da9f7d34",
   "metadata": {},
   "source": [
    "### 3.2  Analysis of the  tweet body (*message*) variable\n",
    "\n",
    "\n",
    "---"
   ]
  },
  {
   "cell_type": "code",
   "execution_count": null,
   "id": "49ab9e44",
   "metadata": {},
   "outputs": [],
   "source": [
    "# Display the text to be cleaned\n",
    "\"\".join(train_df['message'].tolist())[:500]"
   ]
  },
  {
   "cell_type": "markdown",
   "id": "f33521bd",
   "metadata": {},
   "source": [
    "#### We found some noises in the above display of the 'message' column,and we will be doing the following to clean it: <br>\n",
    "> - Convert all text to lowercase\n",
    "> - Remove noisy entities' such as punctuations, mentions, numbers and extra white space.\n",
    "> - Remove contractions: Words like ain't, isn't, will have to be expanded to \"am not\" and \"is not.\"\n",
    "> - Remove non-ascii Characters: including the emojis\n",
    "> - Remove new line(\\n) character\n",
    "> - Specific named entity extraction\n",
    "> - Tokenization\n",
    "> - Perform part of speech tagging (POS) and lemmatization"
   ]
  },
  {
   "cell_type": "code",
   "execution_count": null,
   "id": "97dc7173",
   "metadata": {},
   "outputs": [],
   "source": [
    "def TweetCleaner(tweet):\n",
    "    # Convert everything to lowercase\n",
    "    tweet = tweet.lower() \n",
    "   \n",
    "    # removing rt\n",
    "    tweet= tweet.replace(\"rt\", \"\")\n",
    "    \n",
    "    # removing \\n\n",
    "    tweet= tweet.replace(\"\\n\", \"\")\n",
    "    \n",
    "    #remove emogies\n",
    "    tweet= tweet.encode(\"ascii\", \"ignore\").decode(\"ascii\")\n",
    "    \n",
    "    # Replace websites with web-url's\n",
    "    tweet = re.sub(r'http[s]?://(?:[A-Za-z]|[0-9]|[$-_@.&+]|[!*\\(\\),]|(?:%[0-9A-Fa-f][0-9A-Fa-f]))+', 'url-web', tweet)\n",
    "    \n",
    "    # Remove numbers\n",
    "    tweet = re.sub(r'\\d+', '', tweet)  \n",
    "    \n",
    "    # Remove punctuation\n",
    "    tweet = re.sub(r\"[,.;':@#?!\\&/$]+\\ *\", ' ', tweet)\n",
    "    \n",
    "    # Remove that funny diamond\n",
    "    tweet = re.sub(r\"U+FFFD \", ' ', tweet)\n",
    "    \n",
    "    # Remove extra whitespace\n",
    "    tweet = re.sub(r'\\s\\s+', ' ', tweet)\n",
    "    \n",
    "    # Remove space in front of tweet\n",
    "    tweet = tweet.lstrip(' ')                        \n",
    "    \n",
    "    return tweet"
   ]
  },
  {
   "cell_type": "code",
   "execution_count": null,
   "id": "b604a350",
   "metadata": {},
   "outputs": [],
   "source": [
    "# Clean message column by applying the above function 'TweetCleaner'\n",
    "train_df['message'] = train_df['message'].apply(TweetCleaner)\n",
    "train_df.head()"
   ]
  },
  {
   "cell_type": "markdown",
   "id": "1bd66831",
   "metadata": {},
   "source": [
    "---\n",
    "\n",
    "\n",
    "#### Our text is half way clean,we are left with:<br>\n",
    "- __Tokenization__ which helps to break raw text into words,sentences called tokens<br>\n",
    "- __Lemmatization__ which helps to reduce the word into dictionary root form<br>\n",
    "- The presence of __stopwords__ can dilute the meaning of the text making our model less efficient.\n",
    "\n"
   ]
  },
  {
   "cell_type": "code",
   "execution_count": null,
   "id": "2b56245c",
   "metadata": {},
   "outputs": [],
   "source": [
    "def lemmatize(df):\n",
    "    \n",
    "    #function that converts list to string\n",
    "    def list_to_string(words): return ' '.join(words) \n",
    "    \n",
    "    # the function that carries out the work\n",
    "    def tweet_lemma(words, lemmatizer): return [lemmatizer.lemmatize(word) for word in words]\n",
    "    \n",
    "    #tokenise each word from each row using word tokenize\n",
    "    tokeniser = TreebankWordTokenizer()\n",
    "    df['message']= df['message'].apply(tokeniser.tokenize)\n",
    "    \n",
    "    #Remove stop word from tweet text\n",
    "    df['message']= df['message'].apply(lambda words:[word for word in words if word not in stopwords.words('english')])\n",
    "    \n",
    "    # lemmatizing the tokens \n",
    "    wnl = WordNetLemmatizer()\n",
    "    df['message']= df['message'].apply(tweet_lemma, args=(wnl, ))\n",
    "    df['message'] =df['message'].apply(lambda x: list_to_string(x))\n",
    "    \n",
    "    return df\n"
   ]
  },
  {
   "cell_type": "code",
   "execution_count": null,
   "id": "579dcd0b",
   "metadata": {},
   "outputs": [],
   "source": [
    "# Futher clean message column by applying the above function 'lemmatize'\n",
    "train_df = lemmatize(train_df)\n",
    "train_df.head()"
   ]
  },
  {
   "cell_type": "markdown",
   "id": "0ac72b32",
   "metadata": {},
   "source": [
    "#### Now, lets display our cleaned text"
   ]
  },
  {
   "cell_type": "code",
   "execution_count": null,
   "id": "cbd2c9e7",
   "metadata": {},
   "outputs": [],
   "source": [
    "# Display cleaned text\n",
    "\"\".join(train_df['message'].tolist())[:500]"
   ]
  },
  {
   "attachments": {
    "Cheer%20Happy%20Two%20Thumbs%20Up%20Emoji.png": {
     "image/png": "[encoded data removed]"
    }
   },
   "cell_type": "markdown",
   "id": "d081dd88",
   "metadata": {},
   "source": [
    "![Cheer%20Happy%20Two%20Thumbs%20Up%20Emoji.png](attachment:Cheer%20Happy%20Two%20Thumbs%20Up%20Emoji.png)\n",
    "\n",
    ">> Awesome, our text looks clean.<br>\n",
    "Now, we can and will proceed to more visualizations, modelling and execution <br>but before then, we will apply the cleaning functions(__'TweetCleaner'__ and __'lemmatize'__) above to our test dataset."
   ]
  },
  {
   "cell_type": "markdown",
   "id": "af9b08bc",
   "metadata": {},
   "source": [
    "### 3.3 Cleaning  Test_data"
   ]
  },
  {
   "cell_type": "code",
   "execution_count": null,
   "id": "4b1539ab",
   "metadata": {},
   "outputs": [],
   "source": [
    "test_df ['message'] = test_df ['message'].apply(TweetCleaner)\n",
    "test_df = lemmatize(test_df)\n",
    "test_df.head()"
   ]
  },
  {
   "cell_type": "markdown",
   "id": "da9a082d",
   "metadata": {},
   "source": [
    "#### The above output looks clean. So, lets do some more Visualization"
   ]
  },
  {
   "cell_type": "markdown",
   "id": "0a65b7e5",
   "metadata": {},
   "source": [
    "### 3.4 Put in Word Cloud Below"
   ]
  },
  {
   "cell_type": "code",
   "execution_count": null,
   "id": "81654ac4",
   "metadata": {},
   "outputs": [],
   "source": [
    "# Create new dataframe for word cloud\n",
    "df_train_cloud = train_df.copy()\n",
    "df_train_cloud.head()"
   ]
  },
  {
   "cell_type": "code",
   "execution_count": null,
   "id": "38e3bc48",
   "metadata": {},
   "outputs": [],
   "source": [
    "from wordcloud import WordCloud\n",
    "from wordcloud import WordCloud, STOPWORDS , ImageColorGenerator"
   ]
  },
  {
   "cell_type": "code",
   "execution_count": null,
   "id": "8b8b0ab6",
   "metadata": {},
   "outputs": [],
   "source": [
    "df_class1 = df_train_cloud[df_train_cloud['sentiment']==1]\n",
    "df_class0 = df_train_cloud[df_train_cloud['sentiment']==0]\n",
    "df_classneg = df_train_cloud[df_train_cloud['sentiment']==-1]\n",
    "df_class2 = df_train_cloud[df_train_cloud['sentiment']==2]\n",
    "\n",
    "tweet_All = \" \".join(review for review in train_df.message)\n",
    "tweet_class0 = \" \".join(review for review in df_class0.message)\n",
    "tweet_class1 = \" \".join(review for review in df_class1.message)\n",
    "tweet_classneg = \" \".join(review for review in df_classneg.message)\n",
    "tweet_class2 = \" \".join(review for review in df_class2.message)\n",
    "\n",
    "fig, ax = plt.subplots(5, 1, figsize  = (35,25))\n",
    "# Create and generate a word cloud image:\n",
    "wordcloud_ALL = WordCloud(max_font_size=50, max_words=100, background_color=\"white\").generate(tweet_All)\n",
    "wordcloud_class0 = WordCloud(max_font_size=50, max_words=100, background_color=\"white\").generate(tweet_class0)\n",
    "wordcloud_class1 = WordCloud(max_font_size=50, max_words=100, background_color=\"white\").generate(tweet_class1)\n",
    "wordcloud_classneg = WordCloud(max_font_size=50, max_words=100, background_color=\"white\").generate(tweet_classneg)\n",
    "wordcloud_class2 = WordCloud(max_font_size=50, max_words=100, background_color=\"white\").generate(tweet_class2)\n",
    "\n",
    "# Display the generated image:\n",
    "ax[0].imshow(wordcloud_ALL, interpolation='bilinear')\n",
    "ax[0].set_title('All Tweets', fontsize=25)\n",
    "ax[0].axis('off')\n",
    "ax[1].imshow(wordcloud_class0, interpolation='bilinear')\n",
    "ax[1].set_title('Neutral Tweets',fontsize=25)\n",
    "ax[1].axis('off')\n",
    "ax[2].imshow(wordcloud_class1, interpolation='bilinear')\n",
    "ax[2].set_title('Pro Climate Change',fontsize=25)\n",
    "ax[2].axis('off')\n",
    "ax[3].imshow(wordcloud_classneg, interpolation='bilinear')\n",
    "ax[3].set_title('Anti Climate Change',fontsize=25)\n",
    "ax[3].axis('off')\n",
    "ax[4].imshow(wordcloud_class2, interpolation='bilinear')\n",
    "ax[4].set_title('News Tweets',fontsize=25)\n",
    "ax[4].axis('off')\n",
    "\n",
    "#wordcloud.to_file(\"img/first_review.png\")"
   ]
  },
  {
   "cell_type": "markdown",
   "id": "3efa4c56",
   "metadata": {},
   "source": [
    "## 4. Modeling\n",
    "\n",
    "### Lets build classification models now"
   ]
  },
  {
   "cell_type": "markdown",
   "id": "ddca3fe7",
   "metadata": {},
   "source": [
    "- __Pipeline__  will be used in building our classification models<br>\n",
    "The __pipeline__ is a Python scikit-learn utility which functions by allowing a linear series of data transforms to be linked together, resulting in a measurable modeling process.<br>\n",
    "and the following 5 models will be considered for this project:\n",
    "\n",
    ">> - Random forest\n",
    ">> - Naive Bayes\n",
    ">> - K nearest neighbors\n",
    ">> - Logistic regression\n",
    ">> - Linear SVC"
   ]
  },
  {
   "cell_type": "markdown",
   "id": "c6dd5517",
   "metadata": {},
   "source": [
    "---\n",
    "Before we pass our data through our custom pipelines, we will have to split the dataset and divide it into two subsets. It is a technique for evaluating the performance of a machine learning algorithm.This will help us chose the best model for our submission\n",
    "\n",
    "---\n",
    "#### 4.1 Train - Validation split"
   ]
  },
  {
   "cell_type": "code",
   "execution_count": null,
   "id": "fe29d63b",
   "metadata": {},
   "outputs": [],
   "source": [
    "# Split the dataset into train & validation (20%) for model training\n",
    "\n",
    "# Seperate features and tagret variables\n",
    "X = train_df['message']\n",
    "y = train_df['sentiment']\n",
    "\n",
    "# Split the train data to create validation dataset\n",
    "X_train, X_valid, y_train, y_valid = train_test_split(X, y, test_size=0.2, random_state=42)"
   ]
  },
  {
   "cell_type": "markdown",
   "id": "9350f6ef",
   "metadata": {},
   "source": [
    ">> ###### Pipelines\n",
    "Pipelines consist of 2 steps, vectorization and model fitting.\n",
    "Machines, unlike humans, cannot understand the raw text.Therefore, we need to convert our text into numbers.\n",
    "The TFIDF vectorizer assigns word frequency scores that try to highlight frequent words in a document. Another advantage of this method is that the resulting vectors are already scaled."
   ]
  },
  {
   "cell_type": "code",
   "execution_count": null,
   "id": "41749916",
   "metadata": {},
   "outputs": [],
   "source": [
    "# Random Forest Classifier\n",
    "rf = Pipeline([('tfidf', TfidfVectorizer()),\n",
    "               ('clf', RandomForestClassifier(max_depth=5,n_estimators=100))\n",
    "              ])\n",
    "\n",
    "# Naïve Bayes:\n",
    "nb = Pipeline([('tfidf', TfidfVectorizer()),\n",
    "               ('clf', MultinomialNB())\n",
    "              ])\n",
    "\n",
    "# K-NN Classifier\n",
    "knn = Pipeline([('tfidf', TfidfVectorizer()),\n",
    "                ('clf', KNeighborsClassifier(n_neighbors=5, metric='minkowski', p=2))\n",
    "               ])\n",
    "\n",
    "# Logistic Regression\n",
    "lr = Pipeline([('tfidf',TfidfVectorizer()),\n",
    "               ('clf',LogisticRegression(C=1,class_weight='balanced',max_iter=1000))\n",
    "              ])\n",
    "# Linear SVC:\n",
    "lsvc = Pipeline([('tfidf', TfidfVectorizer()),\n",
    "                 ('clf', LinearSVC(class_weight='balanced'))\n",
    "                ])"
   ]
  },
  {
   "cell_type": "markdown",
   "id": "9ab8eb23",
   "metadata": {},
   "source": [
    "#### 4.2 Train the models\n",
    "\n",
    "The models are trained by passing the train data through each custom pipeline. The trained models are then used to predict the classes for the validation data set."
   ]
  },
  {
   "cell_type": "code",
   "execution_count": null,
   "id": "c18efc54",
   "metadata": {},
   "outputs": [],
   "source": [
    "# Random forest \n",
    "rf.fit(X_train, y_train)\n",
    "y_pred_rf = rf.predict(X_valid)\n",
    "\n",
    "# Niave bayes\n",
    "nb.fit(X_train, y_train)\n",
    "y_pred_nb = nb.predict(X_valid)\n",
    "\n",
    "# K - nearest neighbors\n",
    "knn.fit(X_train, y_train)\n",
    "y_pred_knn = knn.predict(X_valid)\n",
    "\n",
    "# Linear regression\n",
    "lr.fit(X_train, y_train)\n",
    "y_pred_lr = lr.predict(X_valid)\n",
    "\n",
    "# Linear SVC\n",
    "lsvc.fit(X_train, y_train)\n",
    "y_pred_lsvc = lsvc.predict(X_valid)"
   ]
  },
  {
   "cell_type": "markdown",
   "id": "7a3f7e93",
   "metadata": {},
   "source": [
    ">>Awesome, all 5 models are trained.\n",
    "Lets evaluate our models"
   ]
  },
  {
   "cell_type": "markdown",
   "id": "0fd90fd0",
   "metadata": {},
   "source": [
    "## 5. Model evaluation\n",
    "\n",
    "The performance of each model will be evaluated based on the <br>\n",
    "> -  __precision__,<br> \n",
    "> - __accuracy__ and<br>\n",
    "> - __F1 score__ <br>"
   ]
  },
  {
   "cell_type": "markdown",
   "id": "6589bc85",
   "metadata": {},
   "source": [
    "This will be achieved when the model is used to predict the classes for the validation data. We will be looking at the following to determine and visualize these metrics:\n",
    "\n",
    "> - __Classification report__ and __Confusion matrix__ will be applied to each model. The best model will be selected based on the weighted F1 score\n",
    "\n",
    "---"
   ]
  },
  {
   "cell_type": "markdown",
   "id": "7b9c4543",
   "metadata": {},
   "source": [
    "- Random forest"
   ]
  },
  {
   "cell_type": "code",
   "execution_count": null,
   "id": "3d0b85a2",
   "metadata": {},
   "outputs": [],
   "source": [
    "# Generate a classification Report for the random forest model\n",
    "print(metrics.classification_report(y_valid, y_pred_rf))\n",
    "\n",
    "# Generate a normalized confusion matrix\n",
    "cm = confusion_matrix(y_valid, y_pred_rf)\n",
    "cm_norm = cm / cm.sum(axis=1).reshape(-1,1)\n",
    "\n",
    "# Display the confusion matrix as a heatmap\n",
    "sns.heatmap(cm_norm, \n",
    "            cmap=\"YlGnBu\", \n",
    "            xticklabels=rf.classes_, \n",
    "            yticklabels=rf.classes_, \n",
    "            vmin=0., \n",
    "            vmax=1., \n",
    "            annot=True, \n",
    "            annot_kws={'size':20})\n",
    "\n",
    "# Adding headings and lables\n",
    "plt.title('Random forest classification')\n",
    "plt.ylabel('True label')\n",
    "plt.xlabel('Predicted label')\n",
    "plt.show()"
   ]
  },
  {
   "cell_type": "markdown",
   "id": "4e3c7b81",
   "metadata": {},
   "source": [
    "- Naive Bayes"
   ]
  },
  {
   "cell_type": "code",
   "execution_count": null,
   "id": "6b04bfc3",
   "metadata": {},
   "outputs": [],
   "source": [
    "# Generate a classification Report for the Naive Bayes model\n",
    "print(metrics.classification_report(y_valid, y_pred_nb))\n",
    "\n",
    "# Generate a normalized confusion matrix\n",
    "cm = confusion_matrix(y_valid, y_pred_nb)\n",
    "cm_norm = cm / cm.sum(axis=1).reshape(-1,1)\n",
    "\n",
    "# Display the confusion matrix as a heatmap\n",
    "sns.heatmap(cm_norm, \n",
    "            cmap=\"YlGnBu\", \n",
    "            xticklabels=nb.classes_, \n",
    "            yticklabels=nb.classes_, \n",
    "            vmin=0., \n",
    "            vmax=1., \n",
    "            annot=True, \n",
    "            annot_kws={'size':20})\n",
    "\n",
    "# Adding headings and lables\n",
    "plt.title('Naive Bayes classification')\n",
    "plt.ylabel('True label')\n",
    "plt.xlabel('Predicted label')\n",
    "plt.show()"
   ]
  },
  {
   "cell_type": "markdown",
   "id": "68a3dac5",
   "metadata": {},
   "source": [
    "- K-nearest neighbors"
   ]
  },
  {
   "cell_type": "code",
   "execution_count": null,
   "id": "d67c5e07",
   "metadata": {},
   "outputs": [],
   "source": [
    "# Generate a classification Report for the K-nearest neighbors model\n",
    "print(metrics.classification_report(y_valid, y_pred_knn))\n",
    "\n",
    "# Generate a normalized confusion matrix\n",
    "cm = confusion_matrix(y_valid, y_pred_knn)\n",
    "cm_norm = cm / cm.sum(axis=1).reshape(-1,1)\n",
    "\n",
    "# Display the confusion matrix as a heatmap\n",
    "sns.heatmap(cm_norm, \n",
    "            cmap=\"YlGnBu\", \n",
    "            xticklabels=knn.classes_, \n",
    "            yticklabels=knn.classes_, \n",
    "            vmin=0., \n",
    "            vmax=1., \n",
    "            annot=True, \n",
    "            annot_kws={'size':20})\n",
    "\n",
    "# Adding headings and lables\n",
    "plt.title('K - nearest neighbors classification')\n",
    "plt.ylabel('True label')\n",
    "plt.xlabel('Predicted label')\n",
    "plt.show()"
   ]
  },
  {
   "cell_type": "markdown",
   "id": "f8382e46",
   "metadata": {},
   "source": [
    "- Logistic regression"
   ]
  },
  {
   "cell_type": "code",
   "execution_count": null,
   "id": "3230dfa5",
   "metadata": {},
   "outputs": [],
   "source": [
    "# Generate a classification Report for the Logistic regression model\n",
    "print(metrics.classification_report(y_valid, y_pred_lr))\n",
    "\n",
    "cm = confusion_matrix(y_valid, y_pred_lr)\n",
    "cm_norm = cm / cm.sum(axis=1).reshape(-1,1)\n",
    "\n",
    "sns.heatmap(cm_norm, \n",
    "            cmap=\"YlGnBu\", \n",
    "            xticklabels=lr.classes_, \n",
    "            yticklabels=lr.classes_, \n",
    "            vmin=0., \n",
    "            vmax=1., \n",
    "            annot=True, \n",
    "            annot_kws={'size':20})\n",
    "\n",
    "# Adding headings and lables\n",
    "plt.title('Logistic regression classification')\n",
    "plt.ylabel('True label')\n",
    "plt.xlabel('Predicted label')\n",
    "plt.show()"
   ]
  },
  {
   "cell_type": "markdown",
   "id": "704be1e8",
   "metadata": {},
   "source": [
    "- Linear SVC"
   ]
  },
  {
   "cell_type": "code",
   "execution_count": null,
   "id": "b0edb934",
   "metadata": {},
   "outputs": [],
   "source": [
    "# Generate a classification Report for the linear SVC model\n",
    "print(metrics.classification_report(y_valid, y_pred_lsvc))\n",
    "\n",
    "# Generate a normalized confusion matrix\n",
    "cm = confusion_matrix(y_valid, y_pred_lsvc)\n",
    "cm_norm = cm / cm.sum(axis=1).reshape(-1,1)\n",
    "\n",
    "# Display the confusion matrix as a heatmap\n",
    "sns.heatmap(cm_norm, \n",
    "            cmap=\"YlGnBu\", \n",
    "            xticklabels=lsvc.classes_, \n",
    "            yticklabels=lsvc.classes_, \n",
    "            vmin=0., \n",
    "            vmax=1., \n",
    "            annot=True, \n",
    "            annot_kws={'size':20})\n",
    "\n",
    "# Adding headings and lables\n",
    "plt.title('Linear SVC classification')\n",
    "plt.ylabel('True label')\n",
    "plt.xlabel('Predicted label')\n",
    "plt.show()"
   ]
  },
  {
   "cell_type": "markdown",
   "id": "c8cd157e",
   "metadata": {},
   "source": [
    "## 6. Model Selection\n",
    "\n",
    ">> It is evident from the above displays that __Linear SVC__ achieved the highest __F1 score__ of __0.70__ and is therefore our model of choice moving forward.\n",
    "\n",
    "---"
   ]
  },
  {
   "cell_type": "markdown",
   "id": "12d636ab",
   "metadata": {},
   "source": [
    "Since our top performing model has been selected, we will attempt to improve it by performing some __hyperparameter tuning__.\n",
    "- After the optimal parameters are determined the linear SVC model is retrained using these parameters, resulting in a 2% increase in the F1 score."
   ]
  },
  {
   "cell_type": "markdown",
   "id": "e0efa7bb",
   "metadata": {},
   "source": [
    "#### Hyperparameter tuning"
   ]
  },
  {
   "cell_type": "code",
   "execution_count": null,
   "id": "f102cbec",
   "metadata": {},
   "outputs": [],
   "source": [
    "# Retrain linear SVC using optimal hyperparameters:\n",
    "lsvc_op = Pipeline([('tfidf', TfidfVectorizer(max_df=0.8, min_df=2,ngram_range=(1,2))),\n",
    "                    \n",
    "                  ('clf', LinearSVC(C=0.3,class_weight='balanced',max_iter=3000))])\n",
    "\n",
    "# Fit and predict\n",
    "lsvc_op.fit(X_train, y_train)\n",
    "y_pred = lsvc_op.predict(X_valid)\n",
    "\n",
    "print('F1 score improved by',\n",
    "      round(100*((metrics.accuracy_score(y_pred, y_valid) - metrics.accuracy_score(y_pred_lsvc, y_valid)) \n",
    "                 /metrics.accuracy_score(y_pred_lsvc, y_valid)),0), '%')"
   ]
  },
  {
   "cell_type": "code",
   "execution_count": null,
   "id": "185b2b65",
   "metadata": {},
   "outputs": [],
   "source": []
  },
  {
   "cell_type": "markdown",
   "id": "53f93c77",
   "metadata": {},
   "source": [
    "## End Comet experiment"
   ]
  },
  {
   "cell_type": "code",
   "execution_count": null,
   "id": "19da4228",
   "metadata": {},
   "outputs": [],
   "source": [
    "# Saving each metric to add to a dictionary for logging\n",
    "f1 = f1_score(y_valid, y_pred, average='weighted')\n",
    "precision = precision_score(y_valid, y_pred, average='weighted')\n",
    "recall = recall_score(y_valid, y_pred, average='weighted')\n",
    "\n",
    "# Create dictionaries for the data we want to log          \n",
    "metrics = {\"f1\": f1,\n",
    "           \"recall\": recall,\n",
    "           \"precision\": precision}\n",
    "\n",
    "params= {'classifier': 'linear SVC',\n",
    "         'max_df': 0.8,\n",
    "         'min_df': 2,\n",
    "         'ngram_range': '(1,2)',\n",
    "         'vectorizer': 'Tfidf',\n",
    "         'scaling': 'no',\n",
    "         'resampling': 'no',\n",
    "         'test_train random state': '0'}\n",
    "  \n",
    "# Log info on comet\n",
    "experiment.log_metrics(metrics)\n",
    "experiment.log_parameters(params)\n",
    "\n",
    "# Log image\n",
    "experiment.log_image(metrics)\n",
    "\n",
    "# End experiment\n",
    "experiment.end()\n",
    "\n",
    "# Display results on comet page\n",
    "experiment.display()"
   ]
  },
  {
   "cell_type": "markdown",
   "id": "93b7283d",
   "metadata": {},
   "source": [
    "### generate the csv file to submmit to kaggle"
   ]
  },
  {
   "cell_type": "code",
   "execution_count": null,
   "id": "6d1b5385",
   "metadata": {},
   "outputs": [],
   "source": [
    "def gen_kaggle_csv(model, df):\n",
    "    \n",
    "    #load the test data to a varable \"X_unseen\"\n",
    "    X_test = df['message']\n",
    "    \n",
    "    #Make a prediction on the test data with the trained model\n",
    "    mypreds = model.predict(X_test)\n",
    "    \n",
    "    #Reset the index of the test data\n",
    "    df.reset_index(inplace=True)\n",
    "    \n",
    "    #Make a copy of the tweet id \n",
    "    tweetid = df['tweetid']\n",
    "    \n",
    "    #Convert the tweet_id and the prediction \n",
    "    kaggle = pd.DataFrame({'tweetid' : tweetid, \n",
    "                                  'sentiment': mypreds})\n",
    "    \n",
    "    #convert file to csv\n",
    "    kaggle.to_csv('kaggle.csv', index=False)\n",
    "\n",
    "    return kaggle\n",
    "gen_kaggle_csv(lsvc, test_df)"
   ]
  },
  {
   "cell_type": "markdown",
   "id": "9c48824d",
   "metadata": {},
   "source": [
    "### Pickle Trained Model"
   ]
  },
  {
   "cell_type": "code",
   "execution_count": null,
   "id": "cec91bfb",
   "metadata": {},
   "outputs": [],
   "source": [
    "def save_pickle_file(model, file_name):\n",
    "    # import the pickle module\n",
    "    import pickle\n",
    "    \n",
    "    #asign a path to the file_name \n",
    "    model_save_path = file_name \n",
    "    \n",
    "    #save file to thespecified path\n",
    "    with open(model_save_path,'wb') as file: \n",
    "        pickle.dump(model,file)\n",
    "    \n",
    "    return  model_save_path\n",
    "\n",
    "save_pickle_file(lsvc, \"lsvc_model.pkl\")"
   ]
  },
  {
   "cell_type": "markdown",
   "id": "37d54335",
   "metadata": {},
   "source": [
    "## 7. Conclusion"
   ]
  },
  {
   "cell_type": "markdown",
   "id": "f6b7382f",
   "metadata": {},
   "source": [
    "## 8. Refrences"
   ]
  }
 ],
 "metadata": {
  "kernelspec": {
   "display_name": "Python 3 (ipykernel)",
   "language": "python",
   "name": "python3"
  },
  "language_info": {
   "codemirror_mode": {
    "name": "ipython",
    "version": 3
   },
   "file_extension": ".py",
   "mimetype": "text/x-python",
   "name": "python",
   "nbconvert_exporter": "python",
   "pygments_lexer": "ipython3",
   "version": "3.9.7"
  }
 },
 "nbformat": 4,
 "nbformat_minor": 5
}
